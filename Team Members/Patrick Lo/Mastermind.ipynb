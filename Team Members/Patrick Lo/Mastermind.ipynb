{
 "cells": [
  {
   "cell_type": "markdown",
   "metadata": {
    "collapsed": false,
    "id": "FIl5ePMRnNbH"
   },
   "source": [
    "# Welcome to **MASTERMIND**\n",
    "\n",
    "Today we will be creating Mastermind, a classic game similar to Wordle. The steps of Mastermind are as follows:\n",
    "\n",
    "*   The computer plays first by setting a 4-digit number.\n",
    "*   The user now tries their first attempt at guessing the number.\n",
    "*   If the user succeeds in their first attempt (despite odds which are highly unlikely) they win the game and is crowned Mastermind! If not, then the computer hints by revealing which digits or numbers the user got correct.\n",
    "*   The game continues till the user eventually is able to guess the number entirely.\n",
    "\n",
    "\n"
   ]
  },
  {
   "cell_type": "markdown",
   "metadata": {
    "collapsed": false,
    "id": "PyCFDcrEGhpg"
   },
   "source": [
    "## Some Python Background: Typecasting & Strings\n",
    "In this project, we will most likely use some typecasting. This is where you convert (or *cast*) a piece of data to a certain data type, such as a string or integer. Some of the code below could be useful for you on this project. "
   ]
  },
  {
   "cell_type": "code",
   "execution_count": 0,
   "metadata": {
    "colab": {
     "base_uri": "https://localhost:8080/"
    },
    "collapsed": false,
    "id": "MJ2biGAUG77u",
    "outputId": "9b0571f0-f867-4fac-e2bf-84fec90378bb"
   },
   "outputs": [
    {
     "name": "stdout",
     "output_type": "stream",
     "text": [
      "my_decimal: 150000.0\n"
     ]
    }
   ],
   "source": [
    "#start with a decimal\n",
    "my_decimal = 150000.0\n",
    "print(\"my_decimal:\", my_decimal)\n"
   ]
  },
  {
   "cell_type": "markdown",
   "metadata": {
    "collapsed": false,
    "id": "Q3-oqvm8H6fI"
   },
   "source": [
    "Typecasting lets us convert a piece of data to a different data type. \n",
    "\n"
   ]
  },
  {
   "cell_type": "code",
   "execution_count": 0,
   "metadata": {
    "colab": {
     "base_uri": "https://localhost:8080/"
    },
    "collapsed": false,
    "id": "6GbIe7mMHeOz",
    "outputId": "9cfb5b3d-61ab-4f36-a9a8-866849e6be80"
   },
   "outputs": [
    {
     "name": "stdout",
     "output_type": "stream",
     "text": [
      "number: 150000\n"
     ]
    }
   ],
   "source": [
    "my_integer = int(my_decimal) #convert the decimal into an integer\n",
    "print(\"my_integer:\", my_integer)"
   ]
  },
  {
   "cell_type": "markdown",
   "metadata": {
    "collapsed": false,
    "id": "86uGwcGTH_Hb"
   },
   "source": [
    "We may want to convert to different data types for processing data. Strings are one way to process numbers digit by digit."
   ]
  },
  {
   "cell_type": "code",
   "execution_count": 0,
   "metadata": {
    "colab": {
     "base_uri": "https://localhost:8080/"
    },
    "collapsed": false,
    "id": "5U_EISMqHeG0",
    "outputId": "b527d926-d35e-4484-8707-19f6eb82e619"
   },
   "outputs": [
    {
     "name": "stdout",
     "output_type": "stream",
     "text": [
      "string_number: 150000\n"
     ]
    }
   ],
   "source": [
    "my_string = str(my_integer) #convert the integer into a string.\n",
    "print(\"string_number:\", my_string)"
   ]
  },
  {
   "cell_type": "markdown",
   "metadata": {
    "collapsed": false,
    "id": "G823cceuHqRv"
   },
   "source": [
    "The reason why strings are powerful for processing numbers digit by digit is because they can be accessed like lists."
   ]
  },
  {
   "cell_type": "code",
   "execution_count": 0,
   "metadata": {
    "colab": {
     "base_uri": "https://localhost:8080/"
    },
    "collapsed": false,
    "id": "VuYJEIrHHtvS",
    "outputId": "92e67438-8377-4c41-9443-19f5ddff9a4e"
   },
   "outputs": [
    {
     "name": "stdout",
     "output_type": "stream",
     "text": [
      "1 5 0 0 0 0\n"
     ]
    }
   ],
   "source": [
    "print(my_string[0], my_string[1], my_string[2], my_string[3], my_string[4], my_string[5])"
   ]
  },
  {
   "cell_type": "code",
   "execution_count": 0,
   "metadata": {
    "colab": {
     "base_uri": "https://localhost:8080/"
    },
    "collapsed": false,
    "id": "P2n9yz-9Hd-V",
    "outputId": "0d4f2a26-314b-4720-a4ef-6ecbcaffc2ed"
   },
   "outputs": [
    {
     "name": "stdout",
     "output_type": "stream",
     "text": [
      "1\n",
      "5\n",
      "0\n",
      "0\n",
      "0\n",
      "0\n"
     ]
    }
   ],
   "source": [
    "for i in range(len(my_string)):\n",
    "  print(my_string[i])"
   ]
  },
  {
   "cell_type": "markdown",
   "metadata": {
    "collapsed": false,
    "id": "MywCq7XjDo7z"
   },
   "source": [
    "## Step 1: Setting a four digit number\n",
    "For this step, our program needs to set a random 4-digit number for the user to guess. It would make sense that this number is any number inbetween 1000 and 9999 right? \n",
    "\n",
    "We recommend checking out how to get random numbers in python. Maybe a google search of \"Get a random number in a certain range python\" is a good start. You should set this number to a variable to save for later. If you are stuck, look back at our old projects"
   ]
  },
  {
   "cell_type": "code",
   "execution_count": 4,
   "metadata": {
    "collapsed": false,
    "id": "2IAA6A4ZnLXx"
   },
   "outputs": [
    {
     "ename": "NameError",
     "evalue": "name 'randomNumber' is not defined",
     "output_type": "error",
     "traceback": [
      "\u001b[0;31m---------------------------------------------------------------------------\u001b[0m",
      "\u001b[0;31mNameError\u001b[0m                                 Traceback (most recent call last)",
      "Input \u001b[0;32mIn [4]\u001b[0m, in \u001b[0;36m<cell line: 2>\u001b[0;34m()\u001b[0m\n\u001b[1;32m      1\u001b[0m \u001b[38;5;66;03m#get a four digit integer between 1000 and 9999 and set it to a variable.\u001b[39;00m\n\u001b[0;32m----> 2\u001b[0m randomDigit\u001b[38;5;241m=\u001b[39m\u001b[43mrandomNumber\u001b[49m(\u001b[38;5;241m1000\u001b[39m,\u001b[38;5;241m9999\u001b[39m)\n",
      "\u001b[0;31mNameError\u001b[0m: name 'randomNumber' is not defined"
     ]
    }
   ],
   "source": [
    "#get a four digit integer between 1000 and 9999 and set it to a variable.\n",
    "randomDigit=random.randint(1000,9999)"
   ]
  },
  {
   "cell_type": "markdown",
   "metadata": {
    "collapsed": false,
    "id": "yl0IqDTEEzHB"
   },
   "source": [
    "## Step 2: Get the user's guess\n",
    "\n",
    "The user is now going to try to guess the 4-digit number. You should get `input()` from the user and set their guess to an integer. \n",
    "\n",
    "If you run into issues, try to google how to get integer input from a user in python!\n",
    "\n"
   ]
  },
  {
   "cell_type": "code",
   "execution_count": 0,
   "metadata": {
    "collapsed": false,
    "id": "djIIncFBFQ1_"
   },
   "outputs": [
   ],
   "source": [
    "#prompt the user for input and set the guess to an integer.\n",
    "guess=str(input(\"Enter Your 4 Digit Guess:\"))"
   ]
  },
  {
   "cell_type": "markdown",
   "metadata": {
    "collapsed": false,
    "id": "gxclhNPSFYdB"
   },
   "source": [
    "## Step 3: See if the user succeeds in first try\n",
    "In this part, we need to check `if` the user's guess is correct and equal to the random four-digit integer the computer generated.\n",
    "\n",
    "If the user's guess is correct, you should output something like: \n",
    "\n",
    "\n",
    "> \"Great! You only needed 1 try! You're a Mastermind!\"\n",
    "\n",
    "Else, then the computer hints by revealing which digits or numbers the user got correct."
   ]
  },
  {
   "cell_type": "code",
   "execution_count": 0,
   "metadata": {
    "collapsed": false,
    "id": "ustwEFoqFkWO"
   },
   "outputs": [
   ],
   "source": [
    "#check if the user's guess is correct\n",
    "correctInput=[]\n",
    "def numCheck:\n",
    "    i=0\n",
    "    if guess==randomDigit:\n",
    "        print(\"Great! You only needed 1 try! You're a Mastermind!\")\n",
    "    else:\n",
    "        while i<4:\n",
    "            if guess[i]==randomDigit[i]:\n",
    "                correctInput[i]=guess[i]\n",
    "            else\n",
    "                correctInput[i]=\"X\"\n",
    "    guesses+=1\n",
    "#Otherwise, reveal which digits or numbers the user got correct - HINT: use string typecasting to determine which specific numbers are correct!"
   ]
  },
  {
   "cell_type": "markdown",
   "metadata": {
    "collapsed": false,
    "id": "pSDfXUdfGD1u"
   },
   "source": [
    "## Step 4: Continue in a loop.\n",
    "\n",
    "When our user is wrong, we need to let them guess again and keep a `count` of how many guesses they have used so far. We will keep looping until our user's guess is equal to the hidden number.\n",
    "\n",
    "For repetitive tasks in python, we usually use a `while` or a `for` loop. `While` loops continue executing code in a loop until a certain condition is met, and `for` loops typically are used for iterating across a piece of data. \n",
    "\n",
    "> DISCUSS: Discuss with your team and instructor which type of  loop would be better for this case.\n",
    "\n"
   ]
  },
  {
   "cell_type": "code",
   "execution_count": 1,
   "metadata": {
    "collapsed": false,
    "id": "r7xV_F6pSiAS"
   },
   "outputs": [
    {
     "ename": "NameError",
     "evalue": "name 'randomDigit' is not defined",
     "output_type": "error",
     "traceback": [
      "\u001b[0;31m---------------------------------------------------------------------------\u001b[0m",
      "\u001b[0;31mNameError\u001b[0m                                 Traceback (most recent call last)",
      "Input \u001b[0;32mIn [1]\u001b[0m, in \u001b[0;36m<cell line: 3>\u001b[0;34m()\u001b[0m\n\u001b[1;32m      1\u001b[0m \u001b[38;5;66;03m# Loop until the number guessed is equal to the hidden random number\u001b[39;00m\n\u001b[1;32m      2\u001b[0m guesses\u001b[38;5;241m=\u001b[39m\u001b[38;5;241m0\u001b[39m\n\u001b[0;32m----> 3\u001b[0m \u001b[38;5;28;01mwhile\u001b[39;00m guesses\u001b[38;5;241m<\u001b[39m\u001b[38;5;241m=\u001b[39m\u001b[43mrandomDigit\u001b[49m:\n\u001b[1;32m      5\u001b[0m     numCheck()\n",
      "\u001b[0;31mNameError\u001b[0m: name 'randomDigit' is not defined"
     ]
    }
   ],
   "source": [
    "# Loop until the number guessed is equal to the hidden random number\n",
    "guesses=0\n",
    "while guesses<=randomDigit:\n",
    "    \n",
    "    numCheck()\n",
    "    \n",
    "    # in each loop, process the user's guess and reveal which digits or numbers the user got correct each round. "
   ]
  },
  {
   "cell_type": "markdown",
   "metadata": {
    "collapsed": false,
    "id": "MO1CHHGrSjHn"
   },
   "source": [
    "## Put it all together\n",
    "Combine all of your code from the previous steps below to make one smooth running program that will let a user play mastermind!"
   ]
  },
  {
   "cell_type": "code",
   "execution_count": 37,
   "metadata": {
    "cocalc": {
     "outputs": {
      "0": {
       "name": "input",
       "opts": {
        "password": false,
        "prompt": "Enter Your 4 Digit Guess:"
       },
       "output_type": "stream",
       "value": "9876"
      },
      "1": {
       "name": "input",
       "opts": {
        "password": false,
        "prompt": "Enter Your 4 Digit Guess:"
       },
       "output_type": "stream"
      }
     }
    },
    "collapsed": false
   },
   "outputs": [
    {
     "name": "stdout",
     "output_type": "stream",
     "text": "Enter Your 4 Digit Guess: 9876"
    },
    {
     "name": "stdout",
     "output_type": "stream",
     "text": "Enter Your 4 Digit Guess: "
    },
    {
     "name": "stdout",
     "output_type": "stream",
     "text": [
      "You have 4 guesses left\n",
      "['X', 'X', '7', 'X']\n"
     ]
    },
    {
     "ename": "KeyboardInterrupt",
     "evalue": "Interrupted by user",
     "output_type": "error",
     "traceback": [
      "\u001b[0;31m---------------------------------------------------------------------------\u001b[0m",
      "\u001b[0;31mKeyboardInterrupt\u001b[0m                         Traceback (most recent call last)",
      "Input \u001b[0;32mIn [37]\u001b[0m, in \u001b[0;36m<cell line: 27>\u001b[0;34m()\u001b[0m\n\u001b[1;32m     25\u001b[0m         \u001b[38;5;28;01mif\u001b[39;00m guesses\u001b[38;5;241m==\u001b[39m\u001b[38;5;241m0\u001b[39m:\n\u001b[1;32m     26\u001b[0m             \u001b[38;5;28mprint\u001b[39m(\u001b[38;5;124m\"\u001b[39m\u001b[38;5;124mBetter luck next time\u001b[39m\u001b[38;5;124m\"\u001b[39m)\n\u001b[0;32m---> 27\u001b[0m \u001b[43mnumCheck\u001b[49m\u001b[43m(\u001b[49m\u001b[43m)\u001b[49m\n",
      "Input \u001b[0;32mIn [37]\u001b[0m, in \u001b[0;36mnumCheck\u001b[0;34m()\u001b[0m\n\u001b[1;32m      7\u001b[0m guesses\u001b[38;5;241m=\u001b[39m\u001b[38;5;241m5\u001b[39m\n\u001b[1;32m      8\u001b[0m \u001b[38;5;28;01mwhile\u001b[39;00m guesses\u001b[38;5;241m>\u001b[39m\u001b[38;5;241m0\u001b[39m:\n\u001b[0;32m----> 9\u001b[0m     guess\u001b[38;5;241m=\u001b[39m\u001b[38;5;28mstr\u001b[39m(\u001b[38;5;28;43minput\u001b[39;49m\u001b[43m(\u001b[49m\u001b[38;5;124;43m\"\u001b[39;49m\u001b[38;5;124;43mEnter Your 4 Digit Guess:\u001b[39;49m\u001b[38;5;124;43m\"\u001b[39;49m\u001b[43m)\u001b[49m)\n\u001b[1;32m     10\u001b[0m     i\u001b[38;5;241m=\u001b[39m\u001b[38;5;241m0\u001b[39m\n\u001b[1;32m     11\u001b[0m     \u001b[38;5;28;01mif\u001b[39;00m guess\u001b[38;5;241m==\u001b[39mrandomDigitString:\n",
      "File \u001b[0;32m~/miniconda3/envs/cv_env/lib/python3.8/site-packages/ipykernel/kernelbase.py:1075\u001b[0m, in \u001b[0;36mKernel.raw_input\u001b[0;34m(self, prompt)\u001b[0m\n\u001b[1;32m   1071\u001b[0m \u001b[38;5;28;01mif\u001b[39;00m \u001b[38;5;129;01mnot\u001b[39;00m \u001b[38;5;28mself\u001b[39m\u001b[38;5;241m.\u001b[39m_allow_stdin:\n\u001b[1;32m   1072\u001b[0m     \u001b[38;5;28;01mraise\u001b[39;00m StdinNotImplementedError(\n\u001b[1;32m   1073\u001b[0m         \u001b[38;5;124m\"\u001b[39m\u001b[38;5;124mraw_input was called, but this frontend does not support input requests.\u001b[39m\u001b[38;5;124m\"\u001b[39m\n\u001b[1;32m   1074\u001b[0m     )\n\u001b[0;32m-> 1075\u001b[0m \u001b[38;5;28;01mreturn\u001b[39;00m \u001b[38;5;28;43mself\u001b[39;49m\u001b[38;5;241;43m.\u001b[39;49m\u001b[43m_input_request\u001b[49m\u001b[43m(\u001b[49m\n\u001b[1;32m   1076\u001b[0m \u001b[43m    \u001b[49m\u001b[38;5;28;43mstr\u001b[39;49m\u001b[43m(\u001b[49m\u001b[43mprompt\u001b[49m\u001b[43m)\u001b[49m\u001b[43m,\u001b[49m\n\u001b[1;32m   1077\u001b[0m \u001b[43m    \u001b[49m\u001b[38;5;28;43mself\u001b[39;49m\u001b[38;5;241;43m.\u001b[39;49m\u001b[43m_parent_ident\u001b[49m\u001b[43m[\u001b[49m\u001b[38;5;124;43m\"\u001b[39;49m\u001b[38;5;124;43mshell\u001b[39;49m\u001b[38;5;124;43m\"\u001b[39;49m\u001b[43m]\u001b[49m\u001b[43m,\u001b[49m\n\u001b[1;32m   1078\u001b[0m \u001b[43m    \u001b[49m\u001b[38;5;28;43mself\u001b[39;49m\u001b[38;5;241;43m.\u001b[39;49m\u001b[43mget_parent\u001b[49m\u001b[43m(\u001b[49m\u001b[38;5;124;43m\"\u001b[39;49m\u001b[38;5;124;43mshell\u001b[39;49m\u001b[38;5;124;43m\"\u001b[39;49m\u001b[43m)\u001b[49m\u001b[43m,\u001b[49m\n\u001b[1;32m   1079\u001b[0m \u001b[43m    \u001b[49m\u001b[43mpassword\u001b[49m\u001b[38;5;241;43m=\u001b[39;49m\u001b[38;5;28;43;01mFalse\u001b[39;49;00m\u001b[43m,\u001b[49m\n\u001b[1;32m   1080\u001b[0m \u001b[43m\u001b[49m\u001b[43m)\u001b[49m\n",
      "File \u001b[0;32m~/miniconda3/envs/cv_env/lib/python3.8/site-packages/ipykernel/kernelbase.py:1120\u001b[0m, in \u001b[0;36mKernel._input_request\u001b[0;34m(self, prompt, ident, parent, password)\u001b[0m\n\u001b[1;32m   1117\u001b[0m             \u001b[38;5;28;01mbreak\u001b[39;00m\n\u001b[1;32m   1118\u001b[0m \u001b[38;5;28;01mexcept\u001b[39;00m \u001b[38;5;167;01mKeyboardInterrupt\u001b[39;00m:\n\u001b[1;32m   1119\u001b[0m     \u001b[38;5;66;03m# re-raise KeyboardInterrupt, to truncate traceback\u001b[39;00m\n\u001b[0;32m-> 1120\u001b[0m     \u001b[38;5;28;01mraise\u001b[39;00m \u001b[38;5;167;01mKeyboardInterrupt\u001b[39;00m(\u001b[38;5;124m\"\u001b[39m\u001b[38;5;124mInterrupted by user\u001b[39m\u001b[38;5;124m\"\u001b[39m) \u001b[38;5;28;01mfrom\u001b[39;00m \u001b[38;5;28mNone\u001b[39m\n\u001b[1;32m   1121\u001b[0m \u001b[38;5;28;01mexcept\u001b[39;00m \u001b[38;5;167;01mException\u001b[39;00m:\n\u001b[1;32m   1122\u001b[0m     \u001b[38;5;28mself\u001b[39m\u001b[38;5;241m.\u001b[39mlog\u001b[38;5;241m.\u001b[39mwarning(\u001b[38;5;124m\"\u001b[39m\u001b[38;5;124mInvalid Message:\u001b[39m\u001b[38;5;124m\"\u001b[39m, exc_info\u001b[38;5;241m=\u001b[39m\u001b[38;5;28;01mTrue\u001b[39;00m)\n",
      "\u001b[0;31mKeyboardInterrupt\u001b[0m: Interrupted by user"
     ]
    }
   ],
   "source": [
    "import random\n",
    "def numCheck():\n",
    "    randomDigit=random.randint(1000,9999)\n",
    "    randomDigitString=str(randomDigit)\n",
    "    correctInput=[\"\",\"\",\"\",\"\"]\n",
    "    guesses=5\n",
    "    while guesses>0:\n",
    "        guess=str(input(\"Enter Your 4 Digit Guess:\"))\n",
    "        i=0\n",
    "        if guess==randomDigitString:\n",
    "            print(\"Great! You only needed 1 try! You're a Mastermind!\")\n",
    "            break\n",
    "        else:\n",
    "            guesses-=1\n",
    "            while i<4:\n",
    "                if guess[i]==randomDigitString[i]:\n",
    "                    correctInput[i]=guess[i]\n",
    "                else:\n",
    "                    correctInput[i]=\"X\"\n",
    "                i+=1\n",
    "            print(f\"You have {guesses} guesses left\")\n",
    "            print(correctInput)\n",
    "        if guesses==0:\n",
    "            print(\"Better luck next time\")\n",
    "numCheck()"
   ]
  },
  {
   "cell_type": "markdown",
   "metadata": {
    "collapsed": false
   },
   "source": [
    "If you want to go further, you can find the next instructions here - https://www.geeksforgeeks.org/mastermind-game-using-python/\n",
    "\n"
   ]
  }
 ],
 "metadata": {
  "colab": {
   "name": "Mastermind.ipynb",
   "provenance": [
   ]
  },
  "kernelspec": {
   "display_name": "Python (cv_env)",
   "language": "python",
   "metadata": {
    "debugger": true
   },
   "name": "cv_env",
   "resource_dir": "/projects/7054eb54-2282-47cc-9fd4-f73d8c0d026c/.local/share/jupyter/kernels/cv_env"
  },
  "language_info": {
   "codemirror_mode": {
    "name": "ipython",
    "version": 3
   },
   "file_extension": ".py",
   "mimetype": "text/x-python",
   "name": "python",
   "nbconvert_exporter": "python",
   "pygments_lexer": "ipython3",
   "version": "3.8.13"
  }
 },
 "nbformat": 4,
 "nbformat_minor": 4
}