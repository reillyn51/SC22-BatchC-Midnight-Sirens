{
 "cells": [
  {
   "cell_type": "code",
   "execution_count": 7,
   "metadata": {
    "cocalc": {
     "outputs": {
      "0": {
       "name": "input",
       "opts": {
        "password": false,
        "prompt": "Guess the 4 digit number:"
       },
       "output_type": "stream"
      }
     }
    },
    "collapsed": false
   },
   "outputs": [
    {
     "name": "stdout",
     "output_type": "stream",
     "text": "Guess the 4 digit number: "
    }
   ],
   "source": [
    "# setting up the random int\n",
    "import random\n",
    "\n",
    "num = random.randrange(1000, 10000)  \n",
    "\n",
    "n = int(input(\"Guess the 4 digit number:\"))\n",
    "if (n == num):\n",
    "    print(\"Great! You guessed the number in just 1 try! You're a Mastermind!\")\n",
    "else:\n",
    "    print(\"Try again\")\n",
    "    n = int(input(\"Guess the 4 digit number:\"))\n",
    "if (n == num):\n",
    "    print(\"Good job you guessed the number!\")\n",
    "else:\n",
    "    print(\"Try again\")\n",
    "    n = int(input(\"Guess the 4 digit number:\"))\n",
    "if (n == num):\n",
    "    print(\"Good job you guessed the number!\")\n",
    "else:\n",
    "    print(\"You're out of tries, better luck next time!\")"
   ]
  },
  {
   "cell_type": "code",
   "execution_count": 0,
   "metadata": {
    "collapsed": false
   },
   "outputs": [
   ],
   "source": [
   ]
  }
 ],
 "metadata": {
  "kernelspec": {
   "display_name": "Python (cv_env)",
   "language": "python",
   "metadata": {
    "debugger": true
   },
   "name": "cv_env",
   "resource_dir": "/projects/7054eb54-2282-47cc-9fd4-f73d8c0d026c/.local/share/jupyter/kernels/cv_env"
  },
  "language_info": {
   "codemirror_mode": {
    "name": "ipython",
    "version": 3
   },
   "file_extension": ".py",
   "mimetype": "text/x-python",
   "name": "python",
   "nbconvert_exporter": "python",
   "pygments_lexer": "ipython3",
   "version": "3.8.13"
  }
 },
 "nbformat": 4,
 "nbformat_minor": 4
}