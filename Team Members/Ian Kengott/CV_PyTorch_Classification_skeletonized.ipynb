{
 "cells": [
  {
   "cell_type": "markdown",
   "metadata": {
    "collapsed": false,
    "id": "u0BK-Hd1M5Za"
   },
   "source": [
    "# Applying a neural network to the Fashion MNIST dataset\n",
    "\n",
    "Using a grayscale image of a clothing article, how can we classify the type of clothing article? E.g shirt, pants, etc...\n",
    "\n"
   ]
  },
  {
   "cell_type": "markdown",
   "metadata": {
    "collapsed": false,
    "id": "qAQI1JtBH6NX"
   },
   "source": [
    "## Import Dependencies\n",
    "\n",
    "PyTorch, or torch, is the python deep learning library we use for our neural networks. \n",
    "\n",
    "Torchvision is an extension of this tool for computer vision specific functions such as transforming images and image datasets. \n",
    "\n",
    "torch.nn is the neural network specific part of the torch library and torch.nn.functional has the activation functions we want to use (such as ReLU). \n",
    "\n"
   ]
  },
  {
   "cell_type": "code",
   "execution_count": 1,
   "metadata": {
    "collapsed": false,
    "id": "ptEQDylSP4SP"
   },
   "outputs": [
    {
     "name": "stdout",
     "output_type": "stream",
     "text": [
      "Requirement already satisfied: torch in /projects/7054eb54-2282-47cc-9fd4-f73d8c0d026c/miniconda3/envs/cv_env/lib/python3.8/site-packages (1.11.0)\r\n",
      "Requirement already satisfied: torchvision in /projects/7054eb54-2282-47cc-9fd4-f73d8c0d026c/miniconda3/envs/cv_env/lib/python3.8/site-packages (0.12.0)\r\n",
      "Requirement already satisfied: typing-extensions in /projects/7054eb54-2282-47cc-9fd4-f73d8c0d026c/miniconda3/envs/cv_env/lib/python3.8/site-packages (from torch) (4.2.0)\r\n",
      "Requirement already satisfied: numpy in /projects/7054eb54-2282-47cc-9fd4-f73d8c0d026c/miniconda3/envs/cv_env/lib/python3.8/site-packages (from torchvision) (1.22.3)\r\n",
      "Requirement already satisfied: pillow!=8.3.*,>=5.3.0 in /projects/7054eb54-2282-47cc-9fd4-f73d8c0d026c/.local/lib/python3.8/site-packages (from torchvision) (9.0.1)\r\n",
      "Requirement already satisfied: requests in /projects/7054eb54-2282-47cc-9fd4-f73d8c0d026c/miniconda3/envs/cv_env/lib/python3.8/site-packages (from torchvision) (2.27.1)\r\n"
     ]
    },
    {
     "name": "stdout",
     "output_type": "stream",
     "text": [
      "Requirement already satisfied: urllib3<1.27,>=1.21.1 in /projects/7054eb54-2282-47cc-9fd4-f73d8c0d026c/.local/lib/python3.8/site-packages (from requests->torchvision) (1.26.6)\r\n",
      "Requirement already satisfied: charset-normalizer~=2.0.0 in /projects/7054eb54-2282-47cc-9fd4-f73d8c0d026c/miniconda3/envs/cv_env/lib/python3.8/site-packages (from requests->torchvision) (2.0.12)\r\n",
      "Requirement already satisfied: idna<4,>=2.5 in /projects/7054eb54-2282-47cc-9fd4-f73d8c0d026c/.local/lib/python3.8/site-packages (from requests->torchvision) (2.10)\r\n",
      "Requirement already satisfied: certifi>=2017.4.17 in /projects/7054eb54-2282-47cc-9fd4-f73d8c0d026c/.local/lib/python3.8/site-packages (from requests->torchvision) (2021.5.30)\r\n"
     ]
    },
    {
     "name": "stdout",
     "output_type": "stream",
     "text": [
      "Note: you may need to restart the kernel to use updated packages.\n"
     ]
    }
   ],
   "source": [
    "%pip install torch torchvision\n",
    "import torch\n",
    "import torchvision\n",
    "import torch.optim as optim\n",
    "import torchvision.transforms as transforms\n",
    "import torch.nn as nn\n",
    "import torch.nn.functional as F"
   ]
  },
  {
   "cell_type": "markdown",
   "metadata": {
    "collapsed": false,
    "id": "dYu9n0fTDfet"
   },
   "source": [
    "## Configure cuda/gpu if available\n",
    "\n"
   ]
  },
  {
   "cell_type": "markdown",
   "metadata": {
    "collapsed": false,
    "id": "eOCymhEgDh09"
   },
   "source": [
    "GPU boost training time. Why? Because it lets us do hundreds to thousands of calculations at the same time"
   ]
  },
  {
   "cell_type": "markdown",
   "metadata": {
    "collapsed": false,
    "id": "fZOnBmNTM5Zt"
   },
   "source": [
    "CUDA is the API that we will use for GPU training. If CUDA is available we want to use it, and otherwise use the CPU. If you are using Google colab, it comes with a built in GPU for use so make sure to activate it by going to Runtime->Change runtime type->GPU"
   ]
  },
  {
   "cell_type": "code",
   "execution_count": 2,
   "metadata": {
    "collapsed": false,
    "id": "8hk0-8XDGnpd"
   },
   "outputs": [
   ],
   "source": [
    "device = torch.device(\"cuda\" if torch.cuda.is_available() else \"cpu\")"
   ]
  },
  {
   "cell_type": "markdown",
   "metadata": {
    "collapsed": false,
    "id": "Pz_N7lJRM5Zw"
   },
   "source": [
    "<h1>Preprocessing our Images</h1>\n",
    "\n",
    "The transform that we will perform on our dataset is first converting all images to tensors. Tensors are the built in array datatype in pytorch, like numpy arrays. If you are interested, learn about why they are useful in keeping track of gradients here:\n",
    "https://pytorch.org/tutorials/beginner/blitz/autograd_tutorial.html .\n",
    "\n",
    "Converting to a tensor also converts an image with pixel values from 0  \n",
    " to 255 to a matrix with numbers from 0 to 1. \n",
    "\n",
    "In addition, we are normalizing the data to a range between -1 and 1. If the range before is [0,1], subtracting 0.5 will give us [-0.5,0.5] and dividing by 0.5 will make the range wider to [-1,1]. torch.Normalize subtracts the first parameter from all the values in the image and divides by the second parameter. \n",
    "\n"
   ]
  },
  {
   "cell_type": "markdown",
   "metadata": {
    "collapsed": false,
    "id": "E42dLkXJM5Zx"
   },
   "source": [
    "transforms docs \\- [https://pytorch.org/vision/stable/transforms.html  \n",
    "](https://pytorch.org/vision/stable/transforms.html)\n"
   ]
  },
  {
   "cell_type": "code",
   "execution_count": 3,
   "metadata": {
    "collapsed": false,
    "id": "mgxEe11MLiry"
   },
   "outputs": [
   ],
   "source": [
    "# Convert Data to Tensors and normalize\n",
    "transform = transforms.Compose(\n",
    "    [transforms.ToTensor(),\n",
    "     transforms.Normalize((0.5), (0.5))])"
   ]
  },
  {
   "cell_type": "markdown",
   "metadata": {
    "collapsed": false,
    "id": "gbhL7fcJM5Zz"
   },
   "source": [
    "## Hyperparameters\n",
    "\n",
    "datasets docs - https://pytorch.org/vision/stable/datasets.html\n",
    "\n",
    "The input size is the number of pixels in each images, which is 28 by 28.\n",
    "\n",
    "The number of classifcation (num_classes) is 10 because there are 10 possible classifications the model can make, such as T-shirt/top, trouser, bag, etc... \n",
    "\n",
    "The number of epochs is how many times the training iterates over the dataset. For example, num\\_epochs of 10 means that the model will iterate over the dataset 10 times and each image is classified 10 times in training. More epochs means more training. If the loss is still going down after the last epoch, you should be training for more epochs. \n",
    "\n",
    "A batch size of 8 means 8 images at a time are passed into the model. A larger batch size means more images are passed at a time and there is faster training. Also, training is less variable, meaning it goes in a consistent image (think of it as using the average of the 8 images) while a batch size of 1 changes the weights for every image leading to more variable training. \n",
    "\n"
   ]
  },
  {
   "cell_type": "code",
   "execution_count": 4,
   "metadata": {
    "collapsed": false,
    "id": "Zd-szzHtHCYb"
   },
   "outputs": [
   ],
   "source": [
    "# hyperparameters\n",
    "input_size = 28 * 28 # 28 * 28 images\n",
    "num_classes = 10 # 10 possible classifications/outputs for the model\n",
    "num_epochs = 10 # 10 iterations over the dataset\n",
    "batch_size = 8 # 8 images passed at a time into the model\n",
    "\n",
    "#the names of all the possible classifications\n",
    "classes = (\"T-shirt/top\", \"Trouser\", \"Pullover\", \"Dress\", \"Coat\",\n",
    "           \"Sandal\", \"Shirt\", \"Sneaker\", \"Bag\", \"Ankle boot\")"
   ]
  },
  {
   "cell_type": "markdown",
   "metadata": {
    "collapsed": false,
    "id": "4-lYAf_8Xtlu"
   },
   "source": [
    "# Applying the transforms\n",
    "\n",
    "We are using the datasets.FashionMNIST function from torchvision to import the dataset. \n",
    "\n",
    "### Parameters to the function:\n",
    "\n",
    "The root parameter sets the directory that we import the data to (and create it if it doesn't exist.)\n",
    "\n",
    "The train parameter determines if we are importing training or testing fashion MNIST dataset. \n",
    "\n",
    "The transform parameter determines the transforms we apply during preprocessing, which were defined above.\n",
    "\n",
    "download=True gives the function permission to download the data into the directory if it doesn't exist there. \n",
    "\n"
   ]
  },
  {
   "cell_type": "code",
   "execution_count": 10,
   "metadata": {
    "colab": {
     "base_uri": "https://localhost:8080/",
     "height": 423,
     "referenced_widgets": [
      "0c32afe2a35c48dc81e26f43832e5528",
      "80c324bd3a774d9fb3474fea9a2f37a1",
      "d994ef5592444f078eb0b38adbb24176",
      "bd1bcd5f50a248a896285f4a8e154c6c",
      "86fbff3d1b4f4fe98ef4f5713c5c6014",
      "35a8bff49c89404ba666f0181606edad",
      "3e3ac696c1ae4030970a291d0b55a9c3",
      "0dd8ab643bd24b2e949e4e3b4096d4be",
      "5f4d3dce10394194943134f856a40b5e",
      "68fbbf59d93340c7be0b57869ac17b15",
      "fcbfca25f1a14e15b0fa0f6088bf40f1",
      "d58ad2180cae45eab7addb2417b50a03",
      "7280aea30eff49bf94a4217647cd70f2",
      "7151b8796109496f9a0213d2ca556296",
      "d841001138284dbe8628700df81bc404",
      "683e7c41d782493ba3cb93d0c288ade1",
      "fd2449e472514181a355fc1c315acfa2",
      "b37cbc32dcbc49aca73006ba0f900a17",
      "58493c17d71b43fc876c0cc4a3093120",
      "161da13e65934d7f9ee9e5cd9f35a46f",
      "a0acaa8f8ff04fa4aa8efef789ea6094",
      "4b5790f98e3b44ec915349b854c9064f",
      "9ddf7176f4d54ae4bca347af22041b7b",
      "822c855d65d64f0a9112308d2389ff7c",
      "67167b99eabd407d8a7900319b48c67f",
      "52dd7ed840c244059a7d69252fb20a0f",
      "14bbc869fe8d452692a6f7cdb38b075b",
      "63bba93a02c141d18b53328db8173d67",
      "f90246acab4b45f3b540772689ac3657",
      "2cdcdd80797f42659fb44a03e3bbd269",
      "71df07ea74d045ea93bba3d60dcb800c",
      "76b8caf8fcbb48779f5dea6d2329ff4d",
      "37a3453775974ecd9176a3c96dde77df",
      "9e48ad9913664c5f9f53f3a815ba9c85",
      "09985f7b880f47509081c7b8f6e797a6",
      "499b378fe04d48aa937c21de79966c4b",
      "701e7e3c57174353aa7190b10b10da27",
      "53e1b8f46e04430c8e19fb66ec674d28",
      "d71d754be2be425ca24b194a2aea125c",
      "f6363bc40f524f2ea0ecb199cd4ad414",
      "a41d6fc422ee47e189be9fde8a0fa2ff",
      "20182c64d4de4aff830441867cfd9d78",
      "d4b6729efbed4c48aa19ae019aa1ee43",
      "c1528e5e1be64a93928ad41707b0dec0"
     ]
    },
    "collapsed": false,
    "id": "dU6akcMoXxb3",
    "outputId": "f2b71f90-d1c0-4798-9e2d-c83709954e8d"
   },
   "outputs": [
   ],
   "source": [
    "# training set\n",
    "train_dataset = torchvision.datasets.FashionMNIST(\n",
    "    root = \"./data\",\n",
    "    train = True,\n",
    "    transform = transform,\n",
    "    download = True\n",
    ")\n",
    "\n",
    "# EXERCISE: do the same thing for the testing dataset and call it test_dataset\n",
    "test_dataset = torchvision.datasets.FashionMNIST(\n",
    "    root = \"./data\",\n",
    "    train = False,\n",
    "    transform = transform,\n",
    "    download = True\n",
    ")"
   ]
  },
  {
   "cell_type": "markdown",
   "metadata": {
    "collapsed": false,
    "id": "DyE4L-A6bnaD"
   },
   "source": [
    "## Dataloaders\n",
    "\n",
    "The pytorch dataloader function creates an iterator that will give us one batch at a time as we iterate over the dataset. The parameters are self-explanatory, but the shuffle parameter shuffles the dataset. This is useful because we want to sample randomly and not go through all the data points from each classification one at a time. We wouldn't know the order of real world data. "
   ]
  },
  {
   "cell_type": "code",
   "execution_count": 11,
   "metadata": {
    "collapsed": false,
    "id": "UA-UYjkpbYT3"
   },
   "outputs": [
   ],
   "source": [
    "# Get batched Dataloaders\n",
    "trainloader = torch.utils.data.DataLoader(\n",
    "    dataset = train_dataset,\n",
    "    batch_size = batch_size,\n",
    "    shuffle = True # optional\n",
    ")\n",
    "\n",
    "#EXERCISE: Create a dataloader for the testing dataset called testloader\n",
    "testloader = torch.utils.data.DataLoader(\n",
    "    dataset = train_dataset,\n",
    "    batch_size = batch_size,\n",
    "    shuffle = True # optional\n",
    ")"
   ]
  },
  {
   "cell_type": "markdown",
   "metadata": {
    "collapsed": false,
    "id": "PRFvX2ylDwaB"
   },
   "source": [
    "## Visualize our data"
   ]
  },
  {
   "cell_type": "markdown",
   "metadata": {
    "collapsed": false,
    "id": "4v-ygSOGM5Z2"
   },
   "source": [
    "matplotlib docs - https://matplotlib.org/stable/users/index"
   ]
  },
  {
   "cell_type": "markdown",
   "metadata": {
    "collapsed": false,
    "id": "9H6KdGs7coRu"
   },
   "source": [
    "We first create a wrapper class for the pyplot imshow method, which is used to show RGB images on the screen. We first perform the opposite transformations as our initial normalization, to put the range of the pixels back between 0-1 (needed for pyplot. Next, we turn the tensor image into a numpy array and transpose the dimensions of image. \n",
    "\n",
    "0\\-1 \\(needed for pyplot. Next, we turn the tensor image into a numpy array and transpose the dimensions of image. \n",
    "\n",
    "Why do we need to transpose the color channels? Because the tensor image is (28,28,3) so 28 by 28 which each unit having a third dimension of (R,G,B). We want it (3,28,28) so 3 distinct color channels with each channel being a different matrix (3 matrices). Finally, actually show the new image with plt.show(). \n",
    "\n",
    "Then we turn the train dataloader into an iterator and call the next() function to get the next batch of images and labels for display. Using the handy torch.utils.make_grid function, we can turn the images in the batch into one single row image, and at the end print out the classification/label for each image\n",
    "\n"
   ]
  },
  {
   "cell_type": "code",
   "execution_count": 70,
   "metadata": {
    "colab": {
     "base_uri": "https://localhost:8080/",
     "height": 112
    },
    "collapsed": false,
    "id": "s2DfOJeRLbwk",
    "outputId": "02498f6a-0dc8-41bc-80ad-84d0fa6fe42e"
   },
   "outputs": [
    {
     "data": {
      "image/png": "[encoded data removed]",
      "text/plain": [
       "<Figure size 432x288 with 1 Axes>"
      ]
     },
     "execution_count": 70,
     "metadata": {
      "needs_background": "light"
     },
     "output_type": "execute_result"
    },
    {
     "name": "stdout",
     "output_type": "stream",
     "text": [
      "Shirt Sandal Dress Shirt Sneaker Bag   Pullover Pullover\n"
     ]
    }
   ],
   "source": [
    "import matplotlib.pyplot as plt\n",
    "import numpy as np\n",
    "\n",
    "#imshow wrapper function to display image\n",
    "def imshow(img):\n",
    "    # EXERCISE: reverse normalization transform. Go up and see which operations were performed and do the opposite\n",
    "    img = (img+1)/2\n",
    "    npimg = img.numpy() #turn the image tensor into a numpy array\n",
    "    plt.imshow(np.transpose(npimg, (1, 2, 0))) #transpose the array to  3x28x28 instead of 28x28x3\n",
    "    plt.show()\n",
    "\n",
    "\n",
    "# get some random training images\n",
    "dataiter = iter(trainloader)\n",
    "images, labels = dataiter.next() #get the next batch of images from the iterator dataloader\n",
    "\n",
    "# show images\n",
    "imshow(torchvision.utils.make_grid(images)) #turn the batch of images into one image grid\n",
    "# print labels\n",
    "print(' '.join(f'{classes[labels[j]]:5s}' for j in range(batch_size))) #print out all the classifications for each image"
   ]
  },
  {
   "cell_type": "markdown",
   "metadata": {
    "collapsed": false,
    "id": "3xjsirAPK5sL"
   },
   "source": [
    "##### H2 = size of height after convolution\n",
    "##### W2 = size of width after convolution\n",
    "##### H1 = primitive height size\n",
    "##### FH = filter's height size\n",
    "##### W1 = primitive width size\n",
    "##### WH = filter's width size\n",
    "##### P = num padding\n",
    "##### S = stride"
   ]
  },
  {
   "cell_type": "markdown",
   "metadata": {
    "collapsed": false,
    "id": "-Teg5776K9ZF"
   },
   "source": [
    "##### H2 = (H1 - FH + 2P)/S + 1\n",
    "##### W2 = (W1 - FW + 2P)/S + 1"
   ]
  },
  {
   "cell_type": "markdown",
   "metadata": {
    "collapsed": false,
    "id": "cXZ3XWSbM5Z5"
   },
   "source": [
    "<h1>Creating Our Model</h1>"
   ]
  },
  {
   "cell_type": "markdown",
   "metadata": {
    "collapsed": false,
    "id": "mpRX_NL4Ict7"
   },
   "source": [
    "Data format: [batch_size, 1(grey) (3 if RGB but not applicable here), 28, 28]"
   ]
  },
  {
   "cell_type": "markdown",
   "metadata": {
    "collapsed": false,
    "id": "JvjaQMVAM5Z6"
   },
   "source": [
    "Module docs - https://pytorch.org/docs/stable/generated/torch.nn.Module.html <br> nn docs - https://pytorch.org/docs/stable/nn.html"
   ]
  },
  {
   "cell_type": "markdown",
   "metadata": {
    "collapsed": false,
    "id": "HcwyOu_561Dl"
   },
   "source": [
    "## Convolutional Neural Network\n",
    "\n",
    "First we create two main groups at the beginning, the first convolutional group and the second convolutional group. Each convolutional group has a convolutional layer, an activation function (RELU) and a pooling layer. \n",
    "\n",
    "Remember, the convolutional layer passes multiple filters over each channel and can change the number of channels. Into the convolutional layer we pass in the number of input channels and the number of output channels. The kernel size is the size of our filter (e.g 5x5 filter) and the stride is how many pixels to the right we move everytime we apply a filter. Finally, the padding determines how many layers of zeroes we add to the border. \n",
    "\n",
    "The second convolutional group (the one you have the code) is only different in the number of input and output channels of the convolutional layer. Create a convolutional layer with 16 input channels (output of the previous group) and 32 output channels. \n",
    "\n"
   ]
  },
  {
   "cell_type": "code",
   "execution_count": 24,
   "metadata": {
    "collapsed": false,
    "id": "UslclwUyIU6p"
   },
   "outputs": [
   ],
   "source": [
    "class CNN(nn.Module):\n",
    "  def __init__(self):\n",
    "    super(CNN, self).__init__() \n",
    "    self.conv_layer_1 = nn.Sequential( # input.shape: [batch, 1, 28, 28]\n",
    "        nn.Conv2d(\n",
    "            in_channels=1, # grey scale, 3 otherwise if RGB   \n",
    "            out_channels=16, # 16 x 1(grey scale, 3 otherwise if RGB ) filters\n",
    "            kernel_size=5, # convolution extraction size\n",
    "            stride=1,\n",
    "            padding=2 # for convoluted output to be same size,\n",
    "                      # need padding=(kernel_size-1)/2 if stride = 1\n",
    "        ),\n",
    "        nn.ReLU(),\n",
    "        nn.MaxPool2d(kernel_size=2) # (2x2 maxpool), out.shape: [16, 14, 14]\n",
    "    )\n",
    "    #EXERCISE: Code second convolutional group\n",
    "    self.fc = nn.Linear(32*7*7, 10)\n",
    "    self.conv_layer_2 = nn.Sequential( # input.shape: [batch, 1, 28, 28]    nn.Conv2d(\n",
    "        nn.Conv2d(\n",
    "        in_channels=16, # grey scale, 3 otherwise if RGB   \n",
    "        out_channels=32, # 16 x 1(grey scale, 3 otherwise if RGB ) filters\n",
    "        kernel_size=5, # convolution extraction size\n",
    "        stride=1,\n",
    "        padding=2\n",
    "        ),    \n",
    "        nn.ReLU(),\n",
    "        nn.MaxPool2d(kernel_size=2) # (2x2 maxpool), out.shape: [16, 14, 14]\n",
    "   )\n",
    "  def forward(self, x):\n",
    "    # x.shape: [batch_size, 1, 28, 28] -> [batch_size, 16, 14, 14]\n",
    "    x = self.conv_layer_1(x)\n",
    "    # x.shape: [batch_size, 16, 14, 14] -> [batch_size, 32, 7, 7]\n",
    "    x = self.conv_layer_2(x)\n",
    "    x = x.view(x.shape[0], -1) # flatten: [batch_size, 32*7*7]\n",
    "    # x.shape: [batch_size, 32*7*7] -> [batch_size, 10]\n",
    "    out = self.fc(x)\n",
    "    return out"
   ]
  },
  {
   "cell_type": "markdown",
   "metadata": {
    "collapsed": false,
    "id": "XBQj3ocPM5Z7"
   },
   "source": [
    "optim docs - https://pytorch.org/docs/stable/optim.html"
   ]
  },
  {
   "cell_type": "markdown",
   "metadata": {
    "collapsed": false,
    "id": "uzj67dly8t-s"
   },
   "source": [
    "## Initializing the model, loss, and optimizer. \n",
    "\n",
    "First we initialize the model (our CNN). Next we transfer the CNN's weights over to the GPU. \n",
    "\n",
    "Afterward we initialize the cross entropy loss function, which is a loss function used for multi-class problems. Cross entropy heavily penalizes predictions that are far away from the true class distribution. "
   ]
  },
  {
   "cell_type": "code",
   "execution_count": 31,
   "metadata": {
    "collapsed": false,
    "id": "83YcVBTMNkE0"
   },
   "outputs": [
   ],
   "source": [
    "model = CNN()\n",
    "model.to(device) # cast model to device\n",
    "\n",
    "criterion = nn.CrossEntropyLoss()\n",
    "#EXERCISE: transfer the loss function over to the GPU. \n",
    "criterion.to(device)\n",
    "optimizer = optim.Adam(model.parameters(), lr=0.001)"
   ]
  },
  {
   "cell_type": "markdown",
   "metadata": {
    "collapsed": false,
    "id": "S4nlQyOVNmkk"
   },
   "source": [
    "## Training our Model\n",
    "\n",
    "The training process goes somewhat like this\n",
    "go through the dataset [epoch] times<br>\n",
    "&ensp;  go through each image in the dataset<br>\n",
    "&ensp;&ensp; transfer inputs and labels to GPU<br>\n",
    "&ensp;&ensp; get prediction for input<br>\n",
    "&ensp;&ensp; check if prediction matches label, get loss<br>\n",
    "&ensp;&ensp; see which direction you have to change the weights<br>\n",
    "&ensp;&ensp; actually change weights using optimizer and learning rate\n",
    "&ensp;&ensp; Set the directions back to zero (optim.zero_grad())<br>\n",
    "&ensp;&ensp; add loss to total loss until reset<br>\n",
    "&ensp;&ensp; after some iterations, print out loss and reset\n",
    "\n"
   ]
  },
  {
   "cell_type": "code",
   "execution_count": 50,
   "metadata": {
    "colab": {
     "base_uri": "https://localhost:8080/"
    },
    "collapsed": false,
    "id": "Jm4C52vBNxBi",
    "outputId": "7c1ac7da-1d31-483c-ff84-63eccb56d49b"
   },
   "outputs": [
    {
     "name": "stdout",
     "output_type": "stream",
     "text": [
      "[Epoch] 3749 - Training loss: 0.05497783305495258\n"
     ]
    },
    {
     "name": "stdout",
     "output_type": "stream",
     "text": [
      "[Epoch] 7499 - Training loss: 0.11564205329221962\n"
     ]
    },
    {
     "name": "stdout",
     "output_type": "stream",
     "text": [
      "[Epoch] 3749 - Training loss: 0.05335757328260134\n"
     ]
    },
    {
     "name": "stdout",
     "output_type": "stream",
     "text": [
      "[Epoch] 7499 - Training loss: 0.11265090865924059\n"
     ]
    },
    {
     "name": "stdout",
     "output_type": "stream",
     "text": [
      "[Epoch] 3749 - Training loss: 0.05256012904010929\n"
     ]
    },
    {
     "name": "stdout",
     "output_type": "stream",
     "text": [
      "[Epoch] 7499 - Training loss: 0.11048471321951417\n"
     ]
    },
    {
     "name": "stdout",
     "output_type": "stream",
     "text": [
      "[Epoch] 3749 - Training loss: 0.04745468987847777\n"
     ]
    },
    {
     "name": "stdout",
     "output_type": "stream",
     "text": [
      "[Epoch] 7499 - Training loss: 0.10642273249311215\n"
     ]
    },
    {
     "name": "stdout",
     "output_type": "stream",
     "text": [
      "[Epoch] 3749 - Training loss: 0.04550608664905271\n"
     ]
    },
    {
     "name": "stdout",
     "output_type": "stream",
     "text": [
      "[Epoch] 7499 - Training loss: 0.10285910926882015\n",
      "[[DONE]]\n"
     ]
    }
   ],
   "source": [
    "for epoch in range(5):  # loop over the dataset multiple times\n",
    "    running_loss = 0.0\n",
    "    for i, data in enumerate(trainloader):\n",
    "        # get the inputs; data is a list of [inputs, labels]\n",
    "        inputs, labels = data\n",
    "        inputs = inputs.to(device) # put input image onto gpu\n",
    "        labels = labels.to(device) # put label onto gpu\n",
    "\n",
    "        # zero the parameter gradients\n",
    "        optimizer.zero_grad()\n",
    "\n",
    "        # forward + backward + optimize\n",
    "        outputs = model(inputs)\n",
    "        #EXERCISE: Calculate \"loss\" by passing the outputs and labels into the loss function\n",
    "        loss = criterion(outputs, labels)\n",
    "        loss.backward()\n",
    "        optimizer.step()\n",
    "\n",
    "        # print statistics\n",
    "        running_loss += loss.item()\n",
    "        if i % 3750 == 3749:    # print every 3750 mini-batches\n",
    "            print(\"[Epoch] {} - Training loss: {}\".format(i, running_loss/len(trainloader)))\n",
    "            #EXERCISE: print and reset total loss\n",
    "\n",
    "print('[[DONE]]')"
   ]
  },
  {
   "cell_type": "markdown",
   "metadata": {
    "collapsed": false,
    "id": "OcOQ9tIuM5Z9"
   },
   "source": [
    "<h1>Evaluating our Model</h1>\n",
    "\n"
   ]
  },
  {
   "cell_type": "code",
   "execution_count": 0,
   "metadata": {
    "collapsed": false
   },
   "outputs": [
   ],
   "source": [
   ]
  },
  {
   "cell_type": "code",
   "execution_count": 71,
   "metadata": {
    "colab": {
     "base_uri": "https://localhost:8080/",
     "height": 112
    },
    "collapsed": false,
    "id": "kZAICucFPRXx",
    "outputId": "ddbe07f7-8dfc-46b0-cd04-6df452512447"
   },
   "outputs": [
    {
     "name": "stdout",
     "output_type": "stream",
     "text": [
      "GroundTruth:  Shirt Sandal Dress Shirt Sneaker Bag   Pullover Pullover\n"
     ]
    },
    {
     "data": {
      "image/png": "[encoded data removed]",
      "text/plain": [
       "<Figure size 432x288 with 1 Axes>"
      ]
     },
     "execution_count": 71,
     "metadata": {
      "needs_background": "light"
     },
     "output_type": "execute_result"
    }
   ],
   "source": [
    "#EXERCISE: turn the test dataloader (called testloader) into an iterator and get the next image batch\n",
    "enumerate(testloader)\n",
    "# print images\n",
    "#EXERCISE: Display the batch using torch.util.make_grid\n",
    "print('GroundTruth: ', ' '.join(f'{classes[labels[j]]:5s}' for j in range(batch_size)))\n",
    "imshow(torchvision.utils.make_grid(inputs))"
   ]
  },
  {
   "cell_type": "markdown",
   "metadata": {
    "collapsed": false,
    "id": "hJq4t5J_AvkE"
   },
   "source": [
    "## Evaluation Loop\n",
    "\n",
    "Turn off gradient descent using torch.no_grad. <br>\n",
    "&ensp; Iterate through every batch in the dataset<br>\n",
    "&ensp; Get the prediction of every image in the batch<br>\n",
    "&ensp; Add the number of images to the total<br>\n",
    "&ensp; Add the number of correctly classified images to a counter<br>\n",
    "&ensp; Get the accuracy through correct/total.<br>\n",
    "\n"
   ]
  },
  {
   "cell_type": "code",
   "execution_count": 74,
   "metadata": {
    "colab": {
     "base_uri": "https://localhost:8080/"
    },
    "collapsed": false,
    "id": "I6XAn4mNr8_W",
    "outputId": "3a47fecd-91ad-4274-ef90-beb63ee1d07e"
   },
   "outputs": [
    {
     "name": "stdout",
     "output_type": "stream",
     "text": [
      "Accuracy of the network on the 10000 test images: 96 %\n"
     ]
    }
   ],
   "source": [
    "correct = 0\n",
    "total = 0\n",
    "# since we're not training, we don't need to calculate the gradients for our outputs\n",
    "with torch.no_grad():\n",
    "    for i, data in enumerate(testloader):\n",
    "        lables, images = data\n",
    "        lables = lables.to(device) # put input image onto gpu\n",
    "        images = images.to(device) # put label onto gpu\n",
    "        #EXERCISE: calculate outputs by running images through the network\n",
    "        outputs = model(lables)\n",
    "        # the class with the highest energy is what we choose as prediction\n",
    "        _, predicted = torch.max(outputs.data, 1)\n",
    "        total += images.size(0)\n",
    "        correct += (predicted == images).sum().item()\n",
    "\n",
    "print(f'Accuracy of the network on the 10000 test images: {100 * correct // total} %')"
   ]
  },
  {
   "cell_type": "markdown",
   "metadata": {
    "collapsed": false,
    "id": "rXM79N49M5Z_"
   },
   "source": [
    "<h1>Using our Model</h1>\n",
    "\n",
    "Here we simply pick a random image from our dataset and apply the model to it. "
   ]
  },
  {
   "cell_type": "code",
   "execution_count": 75,
   "metadata": {
    "colab": {
     "base_uri": "https://localhost:8080/",
     "height": 265
    },
    "collapsed": false,
    "id": "Ra_kXL0EV2vf",
    "outputId": "d91906ff-bf30-4466-b6c1-c3f63ec80dd3"
   },
   "outputs": [
    {
     "name": "stdout",
     "output_type": "stream",
     "text": [
      "Ground Truth: Sandal\n"
     ]
    },
    {
     "data": {
      "image/png": "[encoded data removed]",
      "text/plain": [
       "<Figure size 432x288 with 1 Axes>"
      ]
     },
     "execution_count": 75,
     "metadata": {
      "needs_background": "light"
     },
     "output_type": "execute_result"
    }
   ],
   "source": [
    "import random\n",
    "rand = random.randint(0,9999)\n",
    "image = test_dataset[rand][0] # shape: [(1) batch_size, 28, 28]\n",
    "plt.subplot()\n",
    "plt.axis('off')\n",
    "# [1, 28, 28] -> [28, 28]\n",
    "plt.imshow(image.squeeze(0))\n",
    "print(f\"Ground Truth: {classes[test_dataset[rand][1]]}\")"
   ]
  },
  {
   "cell_type": "code",
   "execution_count": 76,
   "metadata": {
    "colab": {
     "base_uri": "https://localhost:8080/"
    },
    "collapsed": false,
    "id": "rgE35PGOtMun",
    "outputId": "56fb78f9-eaa4-4610-b407-7ecb6401208f"
   },
   "outputs": [
    {
     "name": "stdout",
     "output_type": "stream",
     "text": [
      "Prediction: Sandal\n"
     ]
    }
   ],
   "source": [
    "with torch.no_grad():\n",
    "    # cast input to device\n",
    "    # [(1), 28, 28] -> [(1), (1), 28, 28]\n",
    "    image = image.to(device)\n",
    "\n",
    "    log_preds = model(image.unsqueeze(0))\n",
    "\n",
    "# post processes the image into more usable numbers\n",
    "#   Math: probabilites were natural logged, so torch.exp() performs e^(log_preds)\n",
    "preds = torch.exp(log_preds)\n",
    "probab = list(preds.cpu().numpy()[0])\n",
    "pred_label = probab.index(max(probab)) # get index of max num (highest probability)\n",
    "\n",
    "print(f\"Prediction: {classes[pred_label]}\")"
   ]
  },
  {
   "cell_type": "code",
   "execution_count": 0,
   "metadata": {
    "collapsed": false,
    "id": "TOpENCdFtSRZ"
   },
   "outputs": [
   ],
   "source": [
   ]
  }
 ],
 "metadata": {
  "accelerator": "GPU",
  "colab": {
   "collapsed_sections": [
   ],
   "name": "CV_Classification_skeletonized.ipynb",
   "provenance": [
   ]
  },
  "interpreter": {
   "hash": "f92c92cb1bbf690c4549d4feaa58ef087288670a9e11f4f2bc1ea394ea8a7720"
  },
  "kernelspec": {
   "display_name": "Python (cv_env)",
   "language": "python",
   "metadata": {
    "debugger": true
   },
   "name": "cv_env",
   "resource_dir": "/projects/7054eb54-2282-47cc-9fd4-f73d8c0d026c/.local/share/jupyter/kernels/cv_env"
  },
  "language_info": {
   "codemirror_mode": {
    "name": "ipython",
    "version": 3
   },
   "file_extension": ".py",
   "mimetype": "text/x-python",
   "name": "python",
   "nbconvert_exporter": "python",
   "pygments_lexer": "ipython3",
   "version": "3.8.13"
  },
  "widgets": {
   "application/vnd.jupyter.widget-state+json": {
    "09985f7b880f47509081c7b8f6e797a6": {
     "model_module": "@jupyter-widgets/controls",
     "model_module_version": "1.5.0",
     "model_name": "HTMLModel",
     "state": {
      "_dom_classes": [
      ],
      "_model_module": "@jupyter-widgets/controls",
      "_model_module_version": "1.5.0",
      "_model_name": "HTMLModel",
      "_view_count": null,
      "_view_module": "@jupyter-widgets/controls",
      "_view_module_version": "1.5.0",
      "_view_name": "HTMLView",
      "description": "",
      "description_tooltip": null,
      "layout": "IPY_MODEL_d71d754be2be425ca24b194a2aea125c",
      "placeholder": "​",
      "style": "IPY_MODEL_f6363bc40f524f2ea0ecb199cd4ad414",
      "value": ""
     }
    },
    "0c32afe2a35c48dc81e26f43832e5528": {
     "model_module": "@jupyter-widgets/controls",
     "model_module_version": "1.5.0",
     "model_name": "HBoxModel",
     "state": {
      "_dom_classes": [
      ],
      "_model_module": "@jupyter-widgets/controls",
      "_model_module_version": "1.5.0",
      "_model_name": "HBoxModel",
      "_view_count": null,
      "_view_module": "@jupyter-widgets/controls",
      "_view_module_version": "1.5.0",
      "_view_name": "HBoxView",
      "box_style": "",
      "children": [
       "IPY_MODEL_80c324bd3a774d9fb3474fea9a2f37a1",
       "IPY_MODEL_d994ef5592444f078eb0b38adbb24176",
       "IPY_MODEL_bd1bcd5f50a248a896285f4a8e154c6c"
      ],
      "layout": "IPY_MODEL_86fbff3d1b4f4fe98ef4f5713c5c6014"
     }
    },
    "0dd8ab643bd24b2e949e4e3b4096d4be": {
     "model_module": "@jupyter-widgets/base",
     "model_module_version": "1.2.0",
     "model_name": "LayoutModel",
     "state": {
      "_model_module": "@jupyter-widgets/base",
      "_model_module_version": "1.2.0",
      "_model_name": "LayoutModel",
      "_view_count": null,
      "_view_module": "@jupyter-widgets/base",
      "_view_module_version": "1.2.0",
      "_view_name": "LayoutView",
      "align_content": null,
      "align_items": null,
      "align_self": null,
      "border": null,
      "bottom": null,
      "display": null,
      "flex": null,
      "flex_flow": null,
      "grid_area": null,
      "grid_auto_columns": null,
      "grid_auto_flow": null,
      "grid_auto_rows": null,
      "grid_column": null,
      "grid_gap": null,
      "grid_row": null,
      "grid_template_areas": null,
      "grid_template_columns": null,
      "grid_template_rows": null,
      "height": null,
      "justify_content": null,
      "justify_items": null,
      "left": null,
      "margin": null,
      "max_height": null,
      "max_width": null,
      "min_height": null,
      "min_width": null,
      "object_fit": null,
      "object_position": null,
      "order": null,
      "overflow": null,
      "overflow_x": null,
      "overflow_y": null,
      "padding": null,
      "right": null,
      "top": null,
      "visibility": null,
      "width": null
     }
    },
    "14bbc869fe8d452692a6f7cdb38b075b": {
     "model_module": "@jupyter-widgets/base",
     "model_module_version": "1.2.0",
     "model_name": "LayoutModel",
     "state": {
      "_model_module": "@jupyter-widgets/base",
      "_model_module_version": "1.2.0",
      "_model_name": "LayoutModel",
      "_view_count": null,
      "_view_module": "@jupyter-widgets/base",
      "_view_module_version": "1.2.0",
      "_view_name": "LayoutView",
      "align_content": null,
      "align_items": null,
      "align_self": null,
      "border": null,
      "bottom": null,
      "display": null,
      "flex": null,
      "flex_flow": null,
      "grid_area": null,
      "grid_auto_columns": null,
      "grid_auto_flow": null,
      "grid_auto_rows": null,
      "grid_column": null,
      "grid_gap": null,
      "grid_row": null,
      "grid_template_areas": null,
      "grid_template_columns": null,
      "grid_template_rows": null,
      "height": null,
      "justify_content": null,
      "justify_items": null,
      "left": null,
      "margin": null,
      "max_height": null,
      "max_width": null,
      "min_height": null,
      "min_width": null,
      "object_fit": null,
      "object_position": null,
      "order": null,
      "overflow": null,
      "overflow_x": null,
      "overflow_y": null,
      "padding": null,
      "right": null,
      "top": null,
      "visibility": null,
      "width": null
     }
    },
    "161da13e65934d7f9ee9e5cd9f35a46f": {
     "model_module": "@jupyter-widgets/controls",
     "model_module_version": "1.5.0",
     "model_name": "ProgressStyleModel",
     "state": {
      "_model_module": "@jupyter-widgets/controls",
      "_model_module_version": "1.5.0",
      "_model_name": "ProgressStyleModel",
      "_view_count": null,
      "_view_module": "@jupyter-widgets/base",
      "_view_module_version": "1.2.0",
      "_view_name": "StyleView",
      "bar_color": null,
      "description_width": ""
     }
    },
    "20182c64d4de4aff830441867cfd9d78": {
     "model_module": "@jupyter-widgets/controls",
     "model_module_version": "1.5.0",
     "model_name": "ProgressStyleModel",
     "state": {
      "_model_module": "@jupyter-widgets/controls",
      "_model_module_version": "1.5.0",
      "_model_name": "ProgressStyleModel",
      "_view_count": null,
      "_view_module": "@jupyter-widgets/base",
      "_view_module_version": "1.2.0",
      "_view_name": "StyleView",
      "bar_color": null,
      "description_width": ""
     }
    },
    "2cdcdd80797f42659fb44a03e3bbd269": {
     "model_module": "@jupyter-widgets/base",
     "model_module_version": "1.2.0",
     "model_name": "LayoutModel",
     "state": {
      "_model_module": "@jupyter-widgets/base",
      "_model_module_version": "1.2.0",
      "_model_name": "LayoutModel",
      "_view_count": null,
      "_view_module": "@jupyter-widgets/base",
      "_view_module_version": "1.2.0",
      "_view_name": "LayoutView",
      "align_content": null,
      "align_items": null,
      "align_self": null,
      "border": null,
      "bottom": null,
      "display": null,
      "flex": null,
      "flex_flow": null,
      "grid_area": null,
      "grid_auto_columns": null,
      "grid_auto_flow": null,
      "grid_auto_rows": null,
      "grid_column": null,
      "grid_gap": null,
      "grid_row": null,
      "grid_template_areas": null,
      "grid_template_columns": null,
      "grid_template_rows": null,
      "height": null,
      "justify_content": null,
      "justify_items": null,
      "left": null,
      "margin": null,
      "max_height": null,
      "max_width": null,
      "min_height": null,
      "min_width": null,
      "object_fit": null,
      "object_position": null,
      "order": null,
      "overflow": null,
      "overflow_x": null,
      "overflow_y": null,
      "padding": null,
      "right": null,
      "top": null,
      "visibility": null,
      "width": null
     }
    },
    "35a8bff49c89404ba666f0181606edad": {
     "model_module": "@jupyter-widgets/base",
     "model_module_version": "1.2.0",
     "model_name": "LayoutModel",
     "state": {
      "_model_module": "@jupyter-widgets/base",
      "_model_module_version": "1.2.0",
      "_model_name": "LayoutModel",
      "_view_count": null,
      "_view_module": "@jupyter-widgets/base",
      "_view_module_version": "1.2.0",
      "_view_name": "LayoutView",
      "align_content": null,
      "align_items": null,
      "align_self": null,
      "border": null,
      "bottom": null,
      "display": null,
      "flex": null,
      "flex_flow": null,
      "grid_area": null,
      "grid_auto_columns": null,
      "grid_auto_flow": null,
      "grid_auto_rows": null,
      "grid_column": null,
      "grid_gap": null,
      "grid_row": null,
      "grid_template_areas": null,
      "grid_template_columns": null,
      "grid_template_rows": null,
      "height": null,
      "justify_content": null,
      "justify_items": null,
      "left": null,
      "margin": null,
      "max_height": null,
      "max_width": null,
      "min_height": null,
      "min_width": null,
      "object_fit": null,
      "object_position": null,
      "order": null,
      "overflow": null,
      "overflow_x": null,
      "overflow_y": null,
      "padding": null,
      "right": null,
      "top": null,
      "visibility": null,
      "width": null
     }
    },
    "37a3453775974ecd9176a3c96dde77df": {
     "model_module": "@jupyter-widgets/controls",
     "model_module_version": "1.5.0",
     "model_name": "DescriptionStyleModel",
     "state": {
      "_model_module": "@jupyter-widgets/controls",
      "_model_module_version": "1.5.0",
      "_model_name": "DescriptionStyleModel",
      "_view_count": null,
      "_view_module": "@jupyter-widgets/base",
      "_view_module_version": "1.2.0",
      "_view_name": "StyleView",
      "description_width": ""
     }
    },
    "3e3ac696c1ae4030970a291d0b55a9c3": {
     "model_module": "@jupyter-widgets/controls",
     "model_module_version": "1.5.0",
     "model_name": "DescriptionStyleModel",
     "state": {
      "_model_module": "@jupyter-widgets/controls",
      "_model_module_version": "1.5.0",
      "_model_name": "DescriptionStyleModel",
      "_view_count": null,
      "_view_module": "@jupyter-widgets/base",
      "_view_module_version": "1.2.0",
      "_view_name": "StyleView",
      "description_width": ""
     }
    },
    "499b378fe04d48aa937c21de79966c4b": {
     "model_module": "@jupyter-widgets/controls",
     "model_module_version": "1.5.0",
     "model_name": "FloatProgressModel",
     "state": {
      "_dom_classes": [
      ],
      "_model_module": "@jupyter-widgets/controls",
      "_model_module_version": "1.5.0",
      "_model_name": "FloatProgressModel",
      "_view_count": null,
      "_view_module": "@jupyter-widgets/controls",
      "_view_module_version": "1.5.0",
      "_view_name": "ProgressView",
      "bar_style": "success",
      "description": "",
      "description_tooltip": null,
      "layout": "IPY_MODEL_a41d6fc422ee47e189be9fde8a0fa2ff",
      "max": 5148,
      "min": 0,
      "orientation": "horizontal",
      "style": "IPY_MODEL_20182c64d4de4aff830441867cfd9d78",
      "value": 5148
     }
    },
    "4b5790f98e3b44ec915349b854c9064f": {
     "model_module": "@jupyter-widgets/controls",
     "model_module_version": "1.5.0",
     "model_name": "DescriptionStyleModel",
     "state": {
      "_model_module": "@jupyter-widgets/controls",
      "_model_module_version": "1.5.0",
      "_model_name": "DescriptionStyleModel",
      "_view_count": null,
      "_view_module": "@jupyter-widgets/base",
      "_view_module_version": "1.2.0",
      "_view_name": "StyleView",
      "description_width": ""
     }
    },
    "52dd7ed840c244059a7d69252fb20a0f": {
     "model_module": "@jupyter-widgets/controls",
     "model_module_version": "1.5.0",
     "model_name": "HTMLModel",
     "state": {
      "_dom_classes": [
      ],
      "_model_module": "@jupyter-widgets/controls",
      "_model_module_version": "1.5.0",
      "_model_name": "HTMLModel",
      "_view_count": null,
      "_view_module": "@jupyter-widgets/controls",
      "_view_module_version": "1.5.0",
      "_view_name": "HTMLView",
      "description": "",
      "description_tooltip": null,
      "layout": "IPY_MODEL_76b8caf8fcbb48779f5dea6d2329ff4d",
      "placeholder": "​",
      "style": "IPY_MODEL_37a3453775974ecd9176a3c96dde77df",
      "value": " 4422656/? [00:01&lt;00:00, 3960059.28it/s]"
     }
    },
    "53e1b8f46e04430c8e19fb66ec674d28": {
     "model_module": "@jupyter-widgets/base",
     "model_module_version": "1.2.0",
     "model_name": "LayoutModel",
     "state": {
      "_model_module": "@jupyter-widgets/base",
      "_model_module_version": "1.2.0",
      "_model_name": "LayoutModel",
      "_view_count": null,
      "_view_module": "@jupyter-widgets/base",
      "_view_module_version": "1.2.0",
      "_view_name": "LayoutView",
      "align_content": null,
      "align_items": null,
      "align_self": null,
      "border": null,
      "bottom": null,
      "display": null,
      "flex": null,
      "flex_flow": null,
      "grid_area": null,
      "grid_auto_columns": null,
      "grid_auto_flow": null,
      "grid_auto_rows": null,
      "grid_column": null,
      "grid_gap": null,
      "grid_row": null,
      "grid_template_areas": null,
      "grid_template_columns": null,
      "grid_template_rows": null,
      "height": null,
      "justify_content": null,
      "justify_items": null,
      "left": null,
      "margin": null,
      "max_height": null,
      "max_width": null,
      "min_height": null,
      "min_width": null,
      "object_fit": null,
      "object_position": null,
      "order": null,
      "overflow": null,
      "overflow_x": null,
      "overflow_y": null,
      "padding": null,
      "right": null,
      "top": null,
      "visibility": null,
      "width": null
     }
    },
    "58493c17d71b43fc876c0cc4a3093120": {
     "model_module": "@jupyter-widgets/base",
     "model_module_version": "1.2.0",
     "model_name": "LayoutModel",
     "state": {
      "_model_module": "@jupyter-widgets/base",
      "_model_module_version": "1.2.0",
      "_model_name": "LayoutModel",
      "_view_count": null,
      "_view_module": "@jupyter-widgets/base",
      "_view_module_version": "1.2.0",
      "_view_name": "LayoutView",
      "align_content": null,
      "align_items": null,
      "align_self": null,
      "border": null,
      "bottom": null,
      "display": null,
      "flex": null,
      "flex_flow": null,
      "grid_area": null,
      "grid_auto_columns": null,
      "grid_auto_flow": null,
      "grid_auto_rows": null,
      "grid_column": null,
      "grid_gap": null,
      "grid_row": null,
      "grid_template_areas": null,
      "grid_template_columns": null,
      "grid_template_rows": null,
      "height": null,
      "justify_content": null,
      "justify_items": null,
      "left": null,
      "margin": null,
      "max_height": null,
      "max_width": null,
      "min_height": null,
      "min_width": null,
      "object_fit": null,
      "object_position": null,
      "order": null,
      "overflow": null,
      "overflow_x": null,
      "overflow_y": null,
      "padding": null,
      "right": null,
      "top": null,
      "visibility": null,
      "width": null
     }
    },
    "5f4d3dce10394194943134f856a40b5e": {
     "model_module": "@jupyter-widgets/controls",
     "model_module_version": "1.5.0",
     "model_name": "ProgressStyleModel",
     "state": {
      "_model_module": "@jupyter-widgets/controls",
      "_model_module_version": "1.5.0",
      "_model_name": "ProgressStyleModel",
      "_view_count": null,
      "_view_module": "@jupyter-widgets/base",
      "_view_module_version": "1.2.0",
      "_view_name": "StyleView",
      "bar_color": null,
      "description_width": ""
     }
    },
    "63bba93a02c141d18b53328db8173d67": {
     "model_module": "@jupyter-widgets/base",
     "model_module_version": "1.2.0",
     "model_name": "LayoutModel",
     "state": {
      "_model_module": "@jupyter-widgets/base",
      "_model_module_version": "1.2.0",
      "_model_name": "LayoutModel",
      "_view_count": null,
      "_view_module": "@jupyter-widgets/base",
      "_view_module_version": "1.2.0",
      "_view_name": "LayoutView",
      "align_content": null,
      "align_items": null,
      "align_self": null,
      "border": null,
      "bottom": null,
      "display": null,
      "flex": null,
      "flex_flow": null,
      "grid_area": null,
      "grid_auto_columns": null,
      "grid_auto_flow": null,
      "grid_auto_rows": null,
      "grid_column": null,
      "grid_gap": null,
      "grid_row": null,
      "grid_template_areas": null,
      "grid_template_columns": null,
      "grid_template_rows": null,
      "height": null,
      "justify_content": null,
      "justify_items": null,
      "left": null,
      "margin": null,
      "max_height": null,
      "max_width": null,
      "min_height": null,
      "min_width": null,
      "object_fit": null,
      "object_position": null,
      "order": null,
      "overflow": null,
      "overflow_x": null,
      "overflow_y": null,
      "padding": null,
      "right": null,
      "top": null,
      "visibility": null,
      "width": null
     }
    },
    "67167b99eabd407d8a7900319b48c67f": {
     "model_module": "@jupyter-widgets/controls",
     "model_module_version": "1.5.0",
     "model_name": "FloatProgressModel",
     "state": {
      "_dom_classes": [
      ],
      "_model_module": "@jupyter-widgets/controls",
      "_model_module_version": "1.5.0",
      "_model_name": "FloatProgressModel",
      "_view_count": null,
      "_view_module": "@jupyter-widgets/controls",
      "_view_module_version": "1.5.0",
      "_view_name": "ProgressView",
      "bar_style": "success",
      "description": "",
      "description_tooltip": null,
      "layout": "IPY_MODEL_2cdcdd80797f42659fb44a03e3bbd269",
      "max": 4422102,
      "min": 0,
      "orientation": "horizontal",
      "style": "IPY_MODEL_71df07ea74d045ea93bba3d60dcb800c",
      "value": 4422102
     }
    },
    "683e7c41d782493ba3cb93d0c288ade1": {
     "model_module": "@jupyter-widgets/base",
     "model_module_version": "1.2.0",
     "model_name": "LayoutModel",
     "state": {
      "_model_module": "@jupyter-widgets/base",
      "_model_module_version": "1.2.0",
      "_model_name": "LayoutModel",
      "_view_count": null,
      "_view_module": "@jupyter-widgets/base",
      "_view_module_version": "1.2.0",
      "_view_name": "LayoutView",
      "align_content": null,
      "align_items": null,
      "align_self": null,
      "border": null,
      "bottom": null,
      "display": null,
      "flex": null,
      "flex_flow": null,
      "grid_area": null,
      "grid_auto_columns": null,
      "grid_auto_flow": null,
      "grid_auto_rows": null,
      "grid_column": null,
      "grid_gap": null,
      "grid_row": null,
      "grid_template_areas": null,
      "grid_template_columns": null,
      "grid_template_rows": null,
      "height": null,
      "justify_content": null,
      "justify_items": null,
      "left": null,
      "margin": null,
      "max_height": null,
      "max_width": null,
      "min_height": null,
      "min_width": null,
      "object_fit": null,
      "object_position": null,
      "order": null,
      "overflow": null,
      "overflow_x": null,
      "overflow_y": null,
      "padding": null,
      "right": null,
      "top": null,
      "visibility": null,
      "width": null
     }
    },
    "68fbbf59d93340c7be0b57869ac17b15": {
     "model_module": "@jupyter-widgets/base",
     "model_module_version": "1.2.0",
     "model_name": "LayoutModel",
     "state": {
      "_model_module": "@jupyter-widgets/base",
      "_model_module_version": "1.2.0",
      "_model_name": "LayoutModel",
      "_view_count": null,
      "_view_module": "@jupyter-widgets/base",
      "_view_module_version": "1.2.0",
      "_view_name": "LayoutView",
      "align_content": null,
      "align_items": null,
      "align_self": null,
      "border": null,
      "bottom": null,
      "display": null,
      "flex": null,
      "flex_flow": null,
      "grid_area": null,
      "grid_auto_columns": null,
      "grid_auto_flow": null,
      "grid_auto_rows": null,
      "grid_column": null,
      "grid_gap": null,
      "grid_row": null,
      "grid_template_areas": null,
      "grid_template_columns": null,
      "grid_template_rows": null,
      "height": null,
      "justify_content": null,
      "justify_items": null,
      "left": null,
      "margin": null,
      "max_height": null,
      "max_width": null,
      "min_height": null,
      "min_width": null,
      "object_fit": null,
      "object_position": null,
      "order": null,
      "overflow": null,
      "overflow_x": null,
      "overflow_y": null,
      "padding": null,
      "right": null,
      "top": null,
      "visibility": null,
      "width": null
     }
    },
    "701e7e3c57174353aa7190b10b10da27": {
     "model_module": "@jupyter-widgets/controls",
     "model_module_version": "1.5.0",
     "model_name": "HTMLModel",
     "state": {
      "_dom_classes": [
      ],
      "_model_module": "@jupyter-widgets/controls",
      "_model_module_version": "1.5.0",
      "_model_name": "HTMLModel",
      "_view_count": null,
      "_view_module": "@jupyter-widgets/controls",
      "_view_module_version": "1.5.0",
      "_view_name": "HTMLView",
      "description": "",
      "description_tooltip": null,
      "layout": "IPY_MODEL_d4b6729efbed4c48aa19ae019aa1ee43",
      "placeholder": "​",
      "style": "IPY_MODEL_c1528e5e1be64a93928ad41707b0dec0",
      "value": " 6144/? [00:00&lt;00:00, 198807.33it/s]"
     }
    },
    "7151b8796109496f9a0213d2ca556296": {
     "model_module": "@jupyter-widgets/controls",
     "model_module_version": "1.5.0",
     "model_name": "FloatProgressModel",
     "state": {
      "_dom_classes": [
      ],
      "_model_module": "@jupyter-widgets/controls",
      "_model_module_version": "1.5.0",
      "_model_name": "FloatProgressModel",
      "_view_count": null,
      "_view_module": "@jupyter-widgets/controls",
      "_view_module_version": "1.5.0",
      "_view_name": "ProgressView",
      "bar_style": "success",
      "description": "",
      "description_tooltip": null,
      "layout": "IPY_MODEL_58493c17d71b43fc876c0cc4a3093120",
      "max": 29515,
      "min": 0,
      "orientation": "horizontal",
      "style": "IPY_MODEL_161da13e65934d7f9ee9e5cd9f35a46f",
      "value": 29515
     }
    },
    "71df07ea74d045ea93bba3d60dcb800c": {
     "model_module": "@jupyter-widgets/controls",
     "model_module_version": "1.5.0",
     "model_name": "ProgressStyleModel",
     "state": {
      "_model_module": "@jupyter-widgets/controls",
      "_model_module_version": "1.5.0",
      "_model_name": "ProgressStyleModel",
      "_view_count": null,
      "_view_module": "@jupyter-widgets/base",
      "_view_module_version": "1.2.0",
      "_view_name": "StyleView",
      "bar_color": null,
      "description_width": ""
     }
    },
    "7280aea30eff49bf94a4217647cd70f2": {
     "model_module": "@jupyter-widgets/controls",
     "model_module_version": "1.5.0",
     "model_name": "HTMLModel",
     "state": {
      "_dom_classes": [
      ],
      "_model_module": "@jupyter-widgets/controls",
      "_model_module_version": "1.5.0",
      "_model_name": "HTMLModel",
      "_view_count": null,
      "_view_module": "@jupyter-widgets/controls",
      "_view_module_version": "1.5.0",
      "_view_name": "HTMLView",
      "description": "",
      "description_tooltip": null,
      "layout": "IPY_MODEL_fd2449e472514181a355fc1c315acfa2",
      "placeholder": "​",
      "style": "IPY_MODEL_b37cbc32dcbc49aca73006ba0f900a17",
      "value": ""
     }
    },
    "76b8caf8fcbb48779f5dea6d2329ff4d": {
     "model_module": "@jupyter-widgets/base",
     "model_module_version": "1.2.0",
     "model_name": "LayoutModel",
     "state": {
      "_model_module": "@jupyter-widgets/base",
      "_model_module_version": "1.2.0",
      "_model_name": "LayoutModel",
      "_view_count": null,
      "_view_module": "@jupyter-widgets/base",
      "_view_module_version": "1.2.0",
      "_view_name": "LayoutView",
      "align_content": null,
      "align_items": null,
      "align_self": null,
      "border": null,
      "bottom": null,
      "display": null,
      "flex": null,
      "flex_flow": null,
      "grid_area": null,
      "grid_auto_columns": null,
      "grid_auto_flow": null,
      "grid_auto_rows": null,
      "grid_column": null,
      "grid_gap": null,
      "grid_row": null,
      "grid_template_areas": null,
      "grid_template_columns": null,
      "grid_template_rows": null,
      "height": null,
      "justify_content": null,
      "justify_items": null,
      "left": null,
      "margin": null,
      "max_height": null,
      "max_width": null,
      "min_height": null,
      "min_width": null,
      "object_fit": null,
      "object_position": null,
      "order": null,
      "overflow": null,
      "overflow_x": null,
      "overflow_y": null,
      "padding": null,
      "right": null,
      "top": null,
      "visibility": null,
      "width": null
     }
    },
    "80c324bd3a774d9fb3474fea9a2f37a1": {
     "model_module": "@jupyter-widgets/controls",
     "model_module_version": "1.5.0",
     "model_name": "HTMLModel",
     "state": {
      "_dom_classes": [
      ],
      "_model_module": "@jupyter-widgets/controls",
      "_model_module_version": "1.5.0",
      "_model_name": "HTMLModel",
      "_view_count": null,
      "_view_module": "@jupyter-widgets/controls",
      "_view_module_version": "1.5.0",
      "_view_name": "HTMLView",
      "description": "",
      "description_tooltip": null,
      "layout": "IPY_MODEL_35a8bff49c89404ba666f0181606edad",
      "placeholder": "​",
      "style": "IPY_MODEL_3e3ac696c1ae4030970a291d0b55a9c3",
      "value": ""
     }
    },
    "822c855d65d64f0a9112308d2389ff7c": {
     "model_module": "@jupyter-widgets/controls",
     "model_module_version": "1.5.0",
     "model_name": "HTMLModel",
     "state": {
      "_dom_classes": [
      ],
      "_model_module": "@jupyter-widgets/controls",
      "_model_module_version": "1.5.0",
      "_model_name": "HTMLModel",
      "_view_count": null,
      "_view_module": "@jupyter-widgets/controls",
      "_view_module_version": "1.5.0",
      "_view_name": "HTMLView",
      "description": "",
      "description_tooltip": null,
      "layout": "IPY_MODEL_63bba93a02c141d18b53328db8173d67",
      "placeholder": "​",
      "style": "IPY_MODEL_f90246acab4b45f3b540772689ac3657",
      "value": ""
     }
    },
    "86fbff3d1b4f4fe98ef4f5713c5c6014": {
     "model_module": "@jupyter-widgets/base",
     "model_module_version": "1.2.0",
     "model_name": "LayoutModel",
     "state": {
      "_model_module": "@jupyter-widgets/base",
      "_model_module_version": "1.2.0",
      "_model_name": "LayoutModel",
      "_view_count": null,
      "_view_module": "@jupyter-widgets/base",
      "_view_module_version": "1.2.0",
      "_view_name": "LayoutView",
      "align_content": null,
      "align_items": null,
      "align_self": null,
      "border": null,
      "bottom": null,
      "display": null,
      "flex": null,
      "flex_flow": null,
      "grid_area": null,
      "grid_auto_columns": null,
      "grid_auto_flow": null,
      "grid_auto_rows": null,
      "grid_column": null,
      "grid_gap": null,
      "grid_row": null,
      "grid_template_areas": null,
      "grid_template_columns": null,
      "grid_template_rows": null,
      "height": null,
      "justify_content": null,
      "justify_items": null,
      "left": null,
      "margin": null,
      "max_height": null,
      "max_width": null,
      "min_height": null,
      "min_width": null,
      "object_fit": null,
      "object_position": null,
      "order": null,
      "overflow": null,
      "overflow_x": null,
      "overflow_y": null,
      "padding": null,
      "right": null,
      "top": null,
      "visibility": null,
      "width": null
     }
    },
    "9ddf7176f4d54ae4bca347af22041b7b": {
     "model_module": "@jupyter-widgets/controls",
     "model_module_version": "1.5.0",
     "model_name": "HBoxModel",
     "state": {
      "_dom_classes": [
      ],
      "_model_module": "@jupyter-widgets/controls",
      "_model_module_version": "1.5.0",
      "_model_name": "HBoxModel",
      "_view_count": null,
      "_view_module": "@jupyter-widgets/controls",
      "_view_module_version": "1.5.0",
      "_view_name": "HBoxView",
      "box_style": "",
      "children": [
       "IPY_MODEL_822c855d65d64f0a9112308d2389ff7c",
       "IPY_MODEL_67167b99eabd407d8a7900319b48c67f",
       "IPY_MODEL_52dd7ed840c244059a7d69252fb20a0f"
      ],
      "layout": "IPY_MODEL_14bbc869fe8d452692a6f7cdb38b075b"
     }
    },
    "9e48ad9913664c5f9f53f3a815ba9c85": {
     "model_module": "@jupyter-widgets/controls",
     "model_module_version": "1.5.0",
     "model_name": "HBoxModel",
     "state": {
      "_dom_classes": [
      ],
      "_model_module": "@jupyter-widgets/controls",
      "_model_module_version": "1.5.0",
      "_model_name": "HBoxModel",
      "_view_count": null,
      "_view_module": "@jupyter-widgets/controls",
      "_view_module_version": "1.5.0",
      "_view_name": "HBoxView",
      "box_style": "",
      "children": [
       "IPY_MODEL_09985f7b880f47509081c7b8f6e797a6",
       "IPY_MODEL_499b378fe04d48aa937c21de79966c4b",
       "IPY_MODEL_701e7e3c57174353aa7190b10b10da27"
      ],
      "layout": "IPY_MODEL_53e1b8f46e04430c8e19fb66ec674d28"
     }
    },
    "a0acaa8f8ff04fa4aa8efef789ea6094": {
     "model_module": "@jupyter-widgets/base",
     "model_module_version": "1.2.0",
     "model_name": "LayoutModel",
     "state": {
      "_model_module": "@jupyter-widgets/base",
      "_model_module_version": "1.2.0",
      "_model_name": "LayoutModel",
      "_view_count": null,
      "_view_module": "@jupyter-widgets/base",
      "_view_module_version": "1.2.0",
      "_view_name": "LayoutView",
      "align_content": null,
      "align_items": null,
      "align_self": null,
      "border": null,
      "bottom": null,
      "display": null,
      "flex": null,
      "flex_flow": null,
      "grid_area": null,
      "grid_auto_columns": null,
      "grid_auto_flow": null,
      "grid_auto_rows": null,
      "grid_column": null,
      "grid_gap": null,
      "grid_row": null,
      "grid_template_areas": null,
      "grid_template_columns": null,
      "grid_template_rows": null,
      "height": null,
      "justify_content": null,
      "justify_items": null,
      "left": null,
      "margin": null,
      "max_height": null,
      "max_width": null,
      "min_height": null,
      "min_width": null,
      "object_fit": null,
      "object_position": null,
      "order": null,
      "overflow": null,
      "overflow_x": null,
      "overflow_y": null,
      "padding": null,
      "right": null,
      "top": null,
      "visibility": null,
      "width": null
     }
    },
    "a41d6fc422ee47e189be9fde8a0fa2ff": {
     "model_module": "@jupyter-widgets/base",
     "model_module_version": "1.2.0",
     "model_name": "LayoutModel",
     "state": {
      "_model_module": "@jupyter-widgets/base",
      "_model_module_version": "1.2.0",
      "_model_name": "LayoutModel",
      "_view_count": null,
      "_view_module": "@jupyter-widgets/base",
      "_view_module_version": "1.2.0",
      "_view_name": "LayoutView",
      "align_content": null,
      "align_items": null,
      "align_self": null,
      "border": null,
      "bottom": null,
      "display": null,
      "flex": null,
      "flex_flow": null,
      "grid_area": null,
      "grid_auto_columns": null,
      "grid_auto_flow": null,
      "grid_auto_rows": null,
      "grid_column": null,
      "grid_gap": null,
      "grid_row": null,
      "grid_template_areas": null,
      "grid_template_columns": null,
      "grid_template_rows": null,
      "height": null,
      "justify_content": null,
      "justify_items": null,
      "left": null,
      "margin": null,
      "max_height": null,
      "max_width": null,
      "min_height": null,
      "min_width": null,
      "object_fit": null,
      "object_position": null,
      "order": null,
      "overflow": null,
      "overflow_x": null,
      "overflow_y": null,
      "padding": null,
      "right": null,
      "top": null,
      "visibility": null,
      "width": null
     }
    },
    "b37cbc32dcbc49aca73006ba0f900a17": {
     "model_module": "@jupyter-widgets/controls",
     "model_module_version": "1.5.0",
     "model_name": "DescriptionStyleModel",
     "state": {
      "_model_module": "@jupyter-widgets/controls",
      "_model_module_version": "1.5.0",
      "_model_name": "DescriptionStyleModel",
      "_view_count": null,
      "_view_module": "@jupyter-widgets/base",
      "_view_module_version": "1.2.0",
      "_view_name": "StyleView",
      "description_width": ""
     }
    },
    "bd1bcd5f50a248a896285f4a8e154c6c": {
     "model_module": "@jupyter-widgets/controls",
     "model_module_version": "1.5.0",
     "model_name": "HTMLModel",
     "state": {
      "_dom_classes": [
      ],
      "_model_module": "@jupyter-widgets/controls",
      "_model_module_version": "1.5.0",
      "_model_name": "HTMLModel",
      "_view_count": null,
      "_view_module": "@jupyter-widgets/controls",
      "_view_module_version": "1.5.0",
      "_view_name": "HTMLView",
      "description": "",
      "description_tooltip": null,
      "layout": "IPY_MODEL_68fbbf59d93340c7be0b57869ac17b15",
      "placeholder": "​",
      "style": "IPY_MODEL_fcbfca25f1a14e15b0fa0f6088bf40f1",
      "value": " 26422272/? [00:03&lt;00:00, 11817352.68it/s]"
     }
    },
    "c1528e5e1be64a93928ad41707b0dec0": {
     "model_module": "@jupyter-widgets/controls",
     "model_module_version": "1.5.0",
     "model_name": "DescriptionStyleModel",
     "state": {
      "_model_module": "@jupyter-widgets/controls",
      "_model_module_version": "1.5.0",
      "_model_name": "DescriptionStyleModel",
      "_view_count": null,
      "_view_module": "@jupyter-widgets/base",
      "_view_module_version": "1.2.0",
      "_view_name": "StyleView",
      "description_width": ""
     }
    },
    "d4b6729efbed4c48aa19ae019aa1ee43": {
     "model_module": "@jupyter-widgets/base",
     "model_module_version": "1.2.0",
     "model_name": "LayoutModel",
     "state": {
      "_model_module": "@jupyter-widgets/base",
      "_model_module_version": "1.2.0",
      "_model_name": "LayoutModel",
      "_view_count": null,
      "_view_module": "@jupyter-widgets/base",
      "_view_module_version": "1.2.0",
      "_view_name": "LayoutView",
      "align_content": null,
      "align_items": null,
      "align_self": null,
      "border": null,
      "bottom": null,
      "display": null,
      "flex": null,
      "flex_flow": null,
      "grid_area": null,
      "grid_auto_columns": null,
      "grid_auto_flow": null,
      "grid_auto_rows": null,
      "grid_column": null,
      "grid_gap": null,
      "grid_row": null,
      "grid_template_areas": null,
      "grid_template_columns": null,
      "grid_template_rows": null,
      "height": null,
      "justify_content": null,
      "justify_items": null,
      "left": null,
      "margin": null,
      "max_height": null,
      "max_width": null,
      "min_height": null,
      "min_width": null,
      "object_fit": null,
      "object_position": null,
      "order": null,
      "overflow": null,
      "overflow_x": null,
      "overflow_y": null,
      "padding": null,
      "right": null,
      "top": null,
      "visibility": null,
      "width": null
     }
    },
    "d58ad2180cae45eab7addb2417b50a03": {
     "model_module": "@jupyter-widgets/controls",
     "model_module_version": "1.5.0",
     "model_name": "HBoxModel",
     "state": {
      "_dom_classes": [
      ],
      "_model_module": "@jupyter-widgets/controls",
      "_model_module_version": "1.5.0",
      "_model_name": "HBoxModel",
      "_view_count": null,
      "_view_module": "@jupyter-widgets/controls",
      "_view_module_version": "1.5.0",
      "_view_name": "HBoxView",
      "box_style": "",
      "children": [
       "IPY_MODEL_7280aea30eff49bf94a4217647cd70f2",
       "IPY_MODEL_7151b8796109496f9a0213d2ca556296",
       "IPY_MODEL_d841001138284dbe8628700df81bc404"
      ],
      "layout": "IPY_MODEL_683e7c41d782493ba3cb93d0c288ade1"
     }
    },
    "d71d754be2be425ca24b194a2aea125c": {
     "model_module": "@jupyter-widgets/base",
     "model_module_version": "1.2.0",
     "model_name": "LayoutModel",
     "state": {
      "_model_module": "@jupyter-widgets/base",
      "_model_module_version": "1.2.0",
      "_model_name": "LayoutModel",
      "_view_count": null,
      "_view_module": "@jupyter-widgets/base",
      "_view_module_version": "1.2.0",
      "_view_name": "LayoutView",
      "align_content": null,
      "align_items": null,
      "align_self": null,
      "border": null,
      "bottom": null,
      "display": null,
      "flex": null,
      "flex_flow": null,
      "grid_area": null,
      "grid_auto_columns": null,
      "grid_auto_flow": null,
      "grid_auto_rows": null,
      "grid_column": null,
      "grid_gap": null,
      "grid_row": null,
      "grid_template_areas": null,
      "grid_template_columns": null,
      "grid_template_rows": null,
      "height": null,
      "justify_content": null,
      "justify_items": null,
      "left": null,
      "margin": null,
      "max_height": null,
      "max_width": null,
      "min_height": null,
      "min_width": null,
      "object_fit": null,
      "object_position": null,
      "order": null,
      "overflow": null,
      "overflow_x": null,
      "overflow_y": null,
      "padding": null,
      "right": null,
      "top": null,
      "visibility": null,
      "width": null
     }
    },
    "d841001138284dbe8628700df81bc404": {
     "model_module": "@jupyter-widgets/controls",
     "model_module_version": "1.5.0",
     "model_name": "HTMLModel",
     "state": {
      "_dom_classes": [
      ],
      "_model_module": "@jupyter-widgets/controls",
      "_model_module_version": "1.5.0",
      "_model_name": "HTMLModel",
      "_view_count": null,
      "_view_module": "@jupyter-widgets/controls",
      "_view_module_version": "1.5.0",
      "_view_name": "HTMLView",
      "description": "",
      "description_tooltip": null,
      "layout": "IPY_MODEL_a0acaa8f8ff04fa4aa8efef789ea6094",
      "placeholder": "​",
      "style": "IPY_MODEL_4b5790f98e3b44ec915349b854c9064f",
      "value": " 29696/? [00:00&lt;00:00, 72057.25it/s]"
     }
    },
    "d994ef5592444f078eb0b38adbb24176": {
     "model_module": "@jupyter-widgets/controls",
     "model_module_version": "1.5.0",
     "model_name": "FloatProgressModel",
     "state": {
      "_dom_classes": [
      ],
      "_model_module": "@jupyter-widgets/controls",
      "_model_module_version": "1.5.0",
      "_model_name": "FloatProgressModel",
      "_view_count": null,
      "_view_module": "@jupyter-widgets/controls",
      "_view_module_version": "1.5.0",
      "_view_name": "ProgressView",
      "bar_style": "success",
      "description": "",
      "description_tooltip": null,
      "layout": "IPY_MODEL_0dd8ab643bd24b2e949e4e3b4096d4be",
      "max": 26421880,
      "min": 0,
      "orientation": "horizontal",
      "style": "IPY_MODEL_5f4d3dce10394194943134f856a40b5e",
      "value": 26421880
     }
    },
    "f6363bc40f524f2ea0ecb199cd4ad414": {
     "model_module": "@jupyter-widgets/controls",
     "model_module_version": "1.5.0",
     "model_name": "DescriptionStyleModel",
     "state": {
      "_model_module": "@jupyter-widgets/controls",
      "_model_module_version": "1.5.0",
      "_model_name": "DescriptionStyleModel",
      "_view_count": null,
      "_view_module": "@jupyter-widgets/base",
      "_view_module_version": "1.2.0",
      "_view_name": "StyleView",
      "description_width": ""
     }
    },
    "f90246acab4b45f3b540772689ac3657": {
     "model_module": "@jupyter-widgets/controls",
     "model_module_version": "1.5.0",
     "model_name": "DescriptionStyleModel",
     "state": {
      "_model_module": "@jupyter-widgets/controls",
      "_model_module_version": "1.5.0",
      "_model_name": "DescriptionStyleModel",
      "_view_count": null,
      "_view_module": "@jupyter-widgets/base",
      "_view_module_version": "1.2.0",
      "_view_name": "StyleView",
      "description_width": ""
     }
    },
    "fcbfca25f1a14e15b0fa0f6088bf40f1": {
     "model_module": "@jupyter-widgets/controls",
     "model_module_version": "1.5.0",
     "model_name": "DescriptionStyleModel",
     "state": {
      "_model_module": "@jupyter-widgets/controls",
      "_model_module_version": "1.5.0",
      "_model_name": "DescriptionStyleModel",
      "_view_count": null,
      "_view_module": "@jupyter-widgets/base",
      "_view_module_version": "1.2.0",
      "_view_name": "StyleView",
      "description_width": ""
     }
    },
    "fd2449e472514181a355fc1c315acfa2": {
     "model_module": "@jupyter-widgets/base",
     "model_module_version": "1.2.0",
     "model_name": "LayoutModel",
     "state": {
      "_model_module": "@jupyter-widgets/base",
      "_model_module_version": "1.2.0",
      "_model_name": "LayoutModel",
      "_view_count": null,
      "_view_module": "@jupyter-widgets/base",
      "_view_module_version": "1.2.0",
      "_view_name": "LayoutView",
      "align_content": null,
      "align_items": null,
      "align_self": null,
      "border": null,
      "bottom": null,
      "display": null,
      "flex": null,
      "flex_flow": null,
      "grid_area": null,
      "grid_auto_columns": null,
      "grid_auto_flow": null,
      "grid_auto_rows": null,
      "grid_column": null,
      "grid_gap": null,
      "grid_row": null,
      "grid_template_areas": null,
      "grid_template_columns": null,
      "grid_template_rows": null,
      "height": null,
      "justify_content": null,
      "justify_items": null,
      "left": null,
      "margin": null,
      "max_height": null,
      "max_width": null,
      "min_height": null,
      "min_width": null,
      "object_fit": null,
      "object_position": null,
      "order": null,
      "overflow": null,
      "overflow_x": null,
      "overflow_y": null,
      "padding": null,
      "right": null,
      "top": null,
      "visibility": null,
      "width": null
     }
    }
   }
  }
 },
 "nbformat": 4,
 "nbformat_minor": 4
}