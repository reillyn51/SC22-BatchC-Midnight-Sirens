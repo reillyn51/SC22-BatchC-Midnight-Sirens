{
 "cells": [
  {
   "cell_type": "code",
   "execution_count": 1,
   "metadata": {
    "collapsed": false,
    "scrolled": true
   },
   "outputs": [
    {
     "name": "stdout",
     "output_type": "stream",
     "text": [
      "https://serpapi.com/search\n"
     ]
    },
    {
     "name": "stderr",
     "output_type": "stream",
     "text": [
      "WARNING: Some output was deleted.\n"
     ]
    }
   ],
   "source": [
    "# webscraping\n",
    "import os, json  # json for pretty output\n",
    "from serpapi import GoogleSearch\n",
    "import requests\n",
    "\n",
    "def get_google_images():\n",
    "    params = {\n",
    "        # \"api_key\": os.environ.get(\"SERPAPI_KEY\"),\n",
    "        \"api_key\": \"2d6832132331b5273398c854cba07ad08d20cc26f101f3ad7fb34c74ef951b1b\",\n",
    "        \"engine\": \"google\",\n",
    "        \"q\": \"car crashes from traffic cams\", # query \n",
    "        \"tbm\": \"isch\", # images\n",
    "        \"ijn\": 0 # page number\n",
    "    }\n",
    "\n",
    "    search = GoogleSearch(params)\n",
    "    results = search.get_dict()\n",
    "    print(results)\n",
    "\n",
    "    # print(json.dumps(results['suggested_searches'], indent=2, ensure_ascii=False))\n",
    "    print(json.dumps(results[\"images_results\"], indent=2, ensure_ascii=False))\n",
    "    # save files to /SerpApi_Images/ if it doesn't exist create the folder\n",
    "    if not os.path.exists(\"./SerpApi_Images/\"):\n",
    "        os.makedirs(\"./SerpApi_Images/\")\n",
    "\n",
    "    # -----------------------\n",
    "    # Downloading images\n",
    "    headers = {\n",
    "        \"user-agent\": \"Mozilla/5.0 (Windows NT 10.0; Win64; x64) AppleWebKit/537.36 (KHTML, like Gecko) Chrome/78.0.3904.108 Safari/537.36\"}\n",
    "\n",
    "    for index, image in enumerate(results[\"images_results\"]):\n",
    "\n",
    "        try:\n",
    "            print(f\"Downloading {index} image...\")\n",
    "\n",
    "            # filepath is current working directory + SerpApi_Images + params[\"q\"] + index + .jpg\n",
    "            filepath = os.path.join(\"./SerpApi_Images/\", params[\"q\"] + str(index) + \".jpg\")\n",
    "\n",
    "            response = requests.get(image['original'], headers=headers).content\n",
    "            with open(filepath, \"wb\") as f:\n",
    "                f.write(response)\n",
    "\n",
    "        except Exception as e:\n",
    "            print(e)\n",
    "            print(f\"Error downloading {index} image. Error =\", e)\n",
    "\n",
    "get_google_images()"
   ]
  },
  {
   "cell_type": "code",
   "execution_count": 9,
   "metadata": {
    "collapsed": false
   },
   "outputs": [
    {
     "name": "stdout",
     "output_type": "stream",
     "text": [
      "\rloading Roboflow workspace...\n"
     ]
    },
    {
     "name": "stdout",
     "output_type": "stream",
     "text": [
      "\rloading Roboflow project...\n"
     ]
    }
   ],
   "source": [
    "# upload\n",
    "# !pip install roboflow\n",
    "from roboflow import Roboflow\n",
    "\n",
    "\n",
    "# creating the Roboflow object\n",
    "# obtaining your API key: https://docs.roboflow.com/rest-api#obtaining-your-api-key\n",
    "rf = Roboflow(api_key=\"xtDkjy7Roda6kTuvNN0S\")\n",
    "\n",
    "# using the workspace method on the Roboflow object\n",
    "workspace = rf.workspace()\n",
    "# print(workspace)\n",
    "# identifying the project for upload\n",
    "project = workspace.project(\"car-crashes\")\n",
    "\n",
    "# # uploading the image to your project\n",
    "# use import os \n",
    "\n",
    "project.upload(\"<file_name>\")"
   ]
  }
 ],
 "metadata": {
  "kernelspec": {
   "display_name": "Python (cv_env)",
   "language": "python",
   "metadata": {
    "debugger": true
   },
   "name": "cv_env",
   "resource_dir": "/projects/7054eb54-2282-47cc-9fd4-f73d8c0d026c/.local/share/jupyter/kernels/cv_env"
  },
  "language_info": {
   "codemirror_mode": {
    "name": "ipython",
    "version": 3
   },
   "file_extension": ".py",
   "mimetype": "text/x-python",
   "name": "python",
   "nbconvert_exporter": "python",
   "pygments_lexer": "ipython3",
   "version": "3.8.13"
  }
 },
 "nbformat": 4,
 "nbformat_minor": 4
}